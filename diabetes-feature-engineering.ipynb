{
 "cells": [
  {
   "cell_type": "markdown",
   "id": "4c0753a8",
   "metadata": {
    "papermill": {
     "duration": 0.013856,
     "end_time": "2023-04-01T09:59:53.174280",
     "exception": false,
     "start_time": "2023-04-01T09:59:53.160424",
     "status": "completed"
    },
    "tags": []
   },
   "source": [
    "# İş Problemi\n",
    "Özellikleri belirtildiğinde kişilerin diyabet hastası olup olmadıklarını tahmin\n",
    "edebilecek bir makine öğrenmesi modeli geliştirilmesi istenmektedir. Modeli\n",
    "geliştirmeden önce gerekli olan veri analizi ve özellik mühendisliği adımlarını\n",
    "gerçekleştirmeniz beklenmektedir."
   ]
  },
  {
   "cell_type": "markdown",
   "id": "63473083",
   "metadata": {
    "papermill": {
     "duration": 0.011786,
     "end_time": "2023-04-01T09:59:53.198598",
     "exception": false,
     "start_time": "2023-04-01T09:59:53.186812",
     "status": "completed"
    },
    "tags": []
   },
   "source": [
    "# Veri Seti Hikayesi\n",
    "Veri seti ABD'deki Ulusal Diyabet-Sindirim-Böbrek Hastalıkları Enstitüleri'nde tutulan büyük veri setinin parçasıdır. ABD'deki\n",
    "Arizona Eyaleti'nin en büyük 5. şehri olan Phoenix şehrinde yaşayan 21 yaş ve üzerinde olan Pima Indian kadınları üzerinde\n",
    "yapılan diyabet araştırması için kullanılan verilerdir.\n",
    "Hedef değişken \"outcome\" olarak belirtilmiş olup; 1 diyabet test sonucunun pozitif oluşunu, 0 ise negatif oluşunu belirtmektedir.\n",
    "\n",
    "- Pregnancies : Hamilelik sayısı\n",
    "\n",
    "- Glucose Oral : glikoz tolerans testinde 2 saatlik plazma glikoz konsantrasyonu\n",
    "\n",
    "- Blood Pressure: Kan Basıncı (Küçük tansiyon) (mm Hg)\n",
    "\n",
    "- SkinThickness : Cilt Kalınlığı\n",
    "\n",
    "- Insulin:  2 saatlik serum insülini (mu U/ml)\n",
    "\n",
    "- DiabetesPedigreeFunction : Soydaki kişilere göre diyabet olma ihtimalini hesaplayan bir fonksiyon\n",
    "\n",
    "- BMI : Vücut kitle endeksi\n",
    "\n",
    "- Age :  Yaş (yıl)\n",
    "\n",
    "- Outcome : Hastalığa sahip (1) ya da değil (0)\n"
   ]
  },
  {
   "cell_type": "code",
   "execution_count": 1,
   "id": "89864fab",
   "metadata": {
    "execution": {
     "iopub.execute_input": "2023-04-01T09:59:53.225586Z",
     "iopub.status.busy": "2023-04-01T09:59:53.225114Z",
     "iopub.status.idle": "2023-04-01T09:59:55.165446Z",
     "shell.execute_reply": "2023-04-01T09:59:55.164130Z"
    },
    "papermill": {
     "duration": 1.957656,
     "end_time": "2023-04-01T09:59:55.168536",
     "exception": false,
     "start_time": "2023-04-01T09:59:53.210880",
     "status": "completed"
    },
    "tags": []
   },
   "outputs": [
    {
     "data": {
      "text/html": [
       "<div>\n",
       "<style scoped>\n",
       "    .dataframe tbody tr th:only-of-type {\n",
       "        vertical-align: middle;\n",
       "    }\n",
       "\n",
       "    .dataframe tbody tr th {\n",
       "        vertical-align: top;\n",
       "    }\n",
       "\n",
       "    .dataframe thead th {\n",
       "        text-align: right;\n",
       "    }\n",
       "</style>\n",
       "<table border=\"1\" class=\"dataframe\">\n",
       "  <thead>\n",
       "    <tr style=\"text-align: right;\">\n",
       "      <th></th>\n",
       "      <th>Pregnancies</th>\n",
       "      <th>Glucose</th>\n",
       "      <th>BloodPressure</th>\n",
       "      <th>SkinThickness</th>\n",
       "      <th>Insulin</th>\n",
       "      <th>BMI</th>\n",
       "      <th>DiabetesPedigreeFunction</th>\n",
       "      <th>Age</th>\n",
       "      <th>Outcome</th>\n",
       "    </tr>\n",
       "  </thead>\n",
       "  <tbody>\n",
       "    <tr>\n",
       "      <th>0</th>\n",
       "      <td>6</td>\n",
       "      <td>148</td>\n",
       "      <td>72</td>\n",
       "      <td>35</td>\n",
       "      <td>0</td>\n",
       "      <td>33.6</td>\n",
       "      <td>0.627</td>\n",
       "      <td>50</td>\n",
       "      <td>1</td>\n",
       "    </tr>\n",
       "    <tr>\n",
       "      <th>1</th>\n",
       "      <td>1</td>\n",
       "      <td>85</td>\n",
       "      <td>66</td>\n",
       "      <td>29</td>\n",
       "      <td>0</td>\n",
       "      <td>26.6</td>\n",
       "      <td>0.351</td>\n",
       "      <td>31</td>\n",
       "      <td>0</td>\n",
       "    </tr>\n",
       "    <tr>\n",
       "      <th>2</th>\n",
       "      <td>8</td>\n",
       "      <td>183</td>\n",
       "      <td>64</td>\n",
       "      <td>0</td>\n",
       "      <td>0</td>\n",
       "      <td>23.3</td>\n",
       "      <td>0.672</td>\n",
       "      <td>32</td>\n",
       "      <td>1</td>\n",
       "    </tr>\n",
       "    <tr>\n",
       "      <th>3</th>\n",
       "      <td>1</td>\n",
       "      <td>89</td>\n",
       "      <td>66</td>\n",
       "      <td>23</td>\n",
       "      <td>94</td>\n",
       "      <td>28.1</td>\n",
       "      <td>0.167</td>\n",
       "      <td>21</td>\n",
       "      <td>0</td>\n",
       "    </tr>\n",
       "    <tr>\n",
       "      <th>4</th>\n",
       "      <td>0</td>\n",
       "      <td>137</td>\n",
       "      <td>40</td>\n",
       "      <td>35</td>\n",
       "      <td>168</td>\n",
       "      <td>43.1</td>\n",
       "      <td>2.288</td>\n",
       "      <td>33</td>\n",
       "      <td>1</td>\n",
       "    </tr>\n",
       "  </tbody>\n",
       "</table>\n",
       "</div>"
      ],
      "text/plain": [
       "   Pregnancies  Glucose  BloodPressure  SkinThickness  Insulin   BMI  \\\n",
       "0            6      148             72             35        0  33.6   \n",
       "1            1       85             66             29        0  26.6   \n",
       "2            8      183             64              0        0  23.3   \n",
       "3            1       89             66             23       94  28.1   \n",
       "4            0      137             40             35      168  43.1   \n",
       "\n",
       "   DiabetesPedigreeFunction  Age  Outcome  \n",
       "0                     0.627   50        1  \n",
       "1                     0.351   31        0  \n",
       "2                     0.672   32        1  \n",
       "3                     0.167   21        0  \n",
       "4                     2.288   33        1  "
      ]
     },
     "execution_count": 1,
     "metadata": {},
     "output_type": "execute_result"
    }
   ],
   "source": [
    "import numpy as np\n",
    "import pandas as pd\n",
    "import seaborn as sns\n",
    "from matplotlib import pyplot as plt\n",
    "from datetime import date\n",
    "from sklearn.metrics import accuracy_score\n",
    "from sklearn.model_selection import train_test_split\n",
    "from sklearn.neighbors import LocalOutlierFactor\n",
    "from sklearn.preprocessing import MinMaxScaler, LabelEncoder, StandardScaler, RobustScaler\n",
    "from sklearn.ensemble import RandomForestClassifier\n",
    "\n",
    "pd.set_option('expand_frame_repr', True)\n",
    "pd.set_option(\"display.max_rows\", 999)\n",
    "pd.set_option('max_colwidth',100)\n",
    "df = pd.read_csv(\"/kaggle/input/diabets/diabetes.csv\")\n",
    "df.head()"
   ]
  },
  {
   "cell_type": "markdown",
   "id": "33fa79a3",
   "metadata": {
    "papermill": {
     "duration": 0.013187,
     "end_time": "2023-04-01T09:59:55.194611",
     "exception": false,
     "start_time": "2023-04-01T09:59:55.181424",
     "status": "completed"
    },
    "tags": []
   },
   "source": [
    "### Görev 1 : Keşifçi Veri Analizi (EDA)\n",
    "Adım 1 : Genel Resmi inceleyiniz."
   ]
  },
  {
   "cell_type": "code",
   "execution_count": 2,
   "id": "6e6e1ce9",
   "metadata": {
    "execution": {
     "iopub.execute_input": "2023-04-01T09:59:55.223205Z",
     "iopub.status.busy": "2023-04-01T09:59:55.222800Z",
     "iopub.status.idle": "2023-04-01T09:59:55.284276Z",
     "shell.execute_reply": "2023-04-01T09:59:55.282962Z"
    },
    "papermill": {
     "duration": 0.080008,
     "end_time": "2023-04-01T09:59:55.287438",
     "exception": false,
     "start_time": "2023-04-01T09:59:55.207430",
     "status": "completed"
    },
    "tags": []
   },
   "outputs": [
    {
     "name": "stdout",
     "output_type": "stream",
     "text": [
      "##### Shape #####\n",
      "(768, 9)\n",
      "\n",
      "##### Types #####\n",
      "Pregnancies                   int64\n",
      "Glucose                       int64\n",
      "BloodPressure                 int64\n",
      "SkinThickness                 int64\n",
      "Insulin                       int64\n",
      "BMI                         float64\n",
      "DiabetesPedigreeFunction    float64\n",
      "Age                           int64\n",
      "Outcome                       int64\n",
      "dtype: object\n",
      "\n",
      "##### Tail #####\n",
      "     Pregnancies  Glucose  BloodPressure  SkinThickness  Insulin   BMI  \\\n",
      "760            2       88             58             26       16  28.4   \n",
      "761            9      170             74             31        0  44.0   \n",
      "762            9       89             62              0        0  22.5   \n",
      "763           10      101             76             48      180  32.9   \n",
      "764            2      122             70             27        0  36.8   \n",
      "765            5      121             72             23      112  26.2   \n",
      "766            1      126             60              0        0  30.1   \n",
      "767            1       93             70             31        0  30.4   \n",
      "\n",
      "     DiabetesPedigreeFunction  Age  Outcome  \n",
      "760                     0.766   22        0  \n",
      "761                     0.403   43        1  \n",
      "762                     0.142   33        0  \n",
      "763                     0.171   63        0  \n",
      "764                     0.340   27        0  \n",
      "765                     0.245   30        0  \n",
      "766                     0.349   47        1  \n",
      "767                     0.315   23        0  \n",
      "\n",
      "##### Head #####\n",
      "   Pregnancies  Glucose  BloodPressure  SkinThickness  Insulin   BMI  \\\n",
      "0            6      148             72             35        0  33.6   \n",
      "1            1       85             66             29        0  26.6   \n",
      "2            8      183             64              0        0  23.3   \n",
      "3            1       89             66             23       94  28.1   \n",
      "4            0      137             40             35      168  43.1   \n",
      "5            5      116             74              0        0  25.6   \n",
      "6            3       78             50             32       88  31.0   \n",
      "7           10      115              0              0        0  35.3   \n",
      "\n",
      "   DiabetesPedigreeFunction  Age  Outcome  \n",
      "0                     0.627   50        1  \n",
      "1                     0.351   31        0  \n",
      "2                     0.672   32        1  \n",
      "3                     0.167   21        0  \n",
      "4                     2.288   33        1  \n",
      "5                     0.201   30        0  \n",
      "6                     0.248   26        1  \n",
      "7                     0.134   29        0  \n",
      "\n",
      "##### Null Analysis #####\n",
      "Pregnancies                 0\n",
      "Glucose                     0\n",
      "BloodPressure               0\n",
      "SkinThickness               0\n",
      "Insulin                     0\n",
      "BMI                         0\n",
      "DiabetesPedigreeFunction    0\n",
      "Age                         0\n",
      "Outcome                     0\n",
      "dtype: int64\n",
      "\n",
      "##### Quantiles #####\n",
      "                          count        mean         std     min      0%  \\\n",
      "Pregnancies               768.0    3.845052    3.369578   0.000   0.000   \n",
      "Glucose                   768.0  120.894531   31.972618   0.000   0.000   \n",
      "BloodPressure             768.0   69.105469   19.355807   0.000   0.000   \n",
      "SkinThickness             768.0   20.536458   15.952218   0.000   0.000   \n",
      "Insulin                   768.0   79.799479  115.244002   0.000   0.000   \n",
      "BMI                       768.0   31.992578    7.884160   0.000   0.000   \n",
      "DiabetesPedigreeFunction  768.0    0.471876    0.331329   0.078   0.078   \n",
      "Age                       768.0   33.240885   11.760232  21.000  21.000   \n",
      "Outcome                   768.0    0.348958    0.476951   0.000   0.000   \n",
      "\n",
      "                                5%       50%        95%        99%    100%  \\\n",
      "Pregnancies                0.00000    3.0000   10.00000   13.00000   17.00   \n",
      "Glucose                   79.00000  117.0000  181.00000  196.00000  199.00   \n",
      "BloodPressure             38.70000   72.0000   90.00000  106.00000  122.00   \n",
      "SkinThickness              0.00000   23.0000   44.00000   51.33000   99.00   \n",
      "Insulin                    0.00000   30.5000  293.00000  519.90000  846.00   \n",
      "BMI                       21.80000   32.0000   44.39500   50.75900   67.10   \n",
      "DiabetesPedigreeFunction   0.14035    0.3725    1.13285    1.69833    2.42   \n",
      "Age                       21.00000   29.0000   58.00000   67.00000   81.00   \n",
      "Outcome                    0.00000    0.0000    1.00000    1.00000    1.00   \n",
      "\n",
      "                             max  \n",
      "Pregnancies                17.00  \n",
      "Glucose                   199.00  \n",
      "BloodPressure             122.00  \n",
      "SkinThickness              99.00  \n",
      "Insulin                   846.00  \n",
      "BMI                        67.10  \n",
      "DiabetesPedigreeFunction    2.42  \n",
      "Age                        81.00  \n",
      "Outcome                     1.00  \n"
     ]
    }
   ],
   "source": [
    "def checkDf(dataframe, head = 8):\n",
    "  print(\"##### Shape #####\")\n",
    "  print(dataframe.shape)\n",
    "  print(\"\\n##### Types #####\")\n",
    "  print(dataframe.dtypes)\n",
    "  print(\"\\n##### Tail #####\")\n",
    "  print(dataframe.tail(head))\n",
    "  print(\"\\n##### Head #####\")\n",
    "  print(dataframe.head(head))\n",
    "  print(\"\\n##### Null Analysis #####\")\n",
    "  print(dataframe.isnull().sum())\n",
    "  print(\"\\n##### Quantiles #####\")\n",
    "  print(dataframe.describe([0,0.05, 0.50, 0.95, 0.99, 1]).T)    \n",
    "checkDf(df)"
   ]
  },
  {
   "cell_type": "code",
   "execution_count": 3,
   "id": "47bacc38",
   "metadata": {
    "execution": {
     "iopub.execute_input": "2023-04-01T09:59:55.314302Z",
     "iopub.status.busy": "2023-04-01T09:59:55.313913Z",
     "iopub.status.idle": "2023-04-01T09:59:55.319276Z",
     "shell.execute_reply": "2023-04-01T09:59:55.318370Z"
    },
    "papermill": {
     "duration": 0.021407,
     "end_time": "2023-04-01T09:59:55.321542",
     "exception": false,
     "start_time": "2023-04-01T09:59:55.300135",
     "status": "completed"
    },
    "tags": []
   },
   "outputs": [],
   "source": [
    "df.columns = [col.upper() for col in df.columns]\n"
   ]
  },
  {
   "cell_type": "markdown",
   "id": "68ff5040",
   "metadata": {
    "papermill": {
     "duration": 0.012648,
     "end_time": "2023-04-01T09:59:55.347169",
     "exception": false,
     "start_time": "2023-04-01T09:59:55.334521",
     "status": "completed"
    },
    "tags": []
   },
   "source": [
    "Adım 2: Numerik ve kategorik değişkenleri yakalayınız.\n",
    "\n"
   ]
  },
  {
   "cell_type": "code",
   "execution_count": 4,
   "id": "97fe9818",
   "metadata": {
    "execution": {
     "iopub.execute_input": "2023-04-01T09:59:55.376057Z",
     "iopub.status.busy": "2023-04-01T09:59:55.375458Z",
     "iopub.status.idle": "2023-04-01T09:59:55.393528Z",
     "shell.execute_reply": "2023-04-01T09:59:55.392134Z"
    },
    "papermill": {
     "duration": 0.036519,
     "end_time": "2023-04-01T09:59:55.396723",
     "exception": false,
     "start_time": "2023-04-01T09:59:55.360204",
     "status": "completed"
    },
    "tags": []
   },
   "outputs": [
    {
     "name": "stdout",
     "output_type": "stream",
     "text": [
      "Observations: 768\n",
      "Variables: 9\n",
      "catCols: 1\n",
      "numCols: 8\n",
      "catButCar: 0\n",
      "numButCat: 1\n"
     ]
    }
   ],
   "source": [
    "def grabColNames(dataframe, catTh=10, carTh=20):\n",
    "    \"\"\"\n",
    "\n",
    "    Veri setindeki kategorik, numerik ve kategorik fakat kardinal değişkenlerin isimlerini verir.\n",
    "    Not: Kategorik değişkenlerin içerisine numerik görünümlü kategorik değişkenler de dahildir.\n",
    "\n",
    "    Parameters\n",
    "    ------\n",
    "        dataframe: dataframe\n",
    "                Değişken isimleri alınmak istenilen dataframe\n",
    "        catTh: int, optional\n",
    "                numerik fakat kategorik olan değişkenler için sınıf eşik değeri\n",
    "        carTh: int, optinal\n",
    "                kategorik fakat kardinal değişkenler için sınıf eşik değeri\n",
    "\n",
    "    Returns\n",
    "    ------\n",
    "        catCols: list\n",
    "                Kategorik değişken listesi\n",
    "        numCols: list\n",
    "                Numerik değişken listesi\n",
    "        catButCar: list\n",
    "                Kategorik görünümlü kardinal değişken listesi\n",
    "\n",
    "    Examples\n",
    "    ------\n",
    "        import seaborn as sns\n",
    "        df = sns.load_dataset(\"iris\")\n",
    "        print(grabColNames(df))\n",
    "\n",
    "\n",
    "    Notes\n",
    "    ------\n",
    "        catCols + numCols + catButCar = toplam değişken sayısı\n",
    "        numButCat catCols'un içerisinde.\n",
    "        Return olan 3 liste toplamı toplam değişken sayısına eşittir: catCols + numCols + catButCar = değişken sayısı\n",
    "\n",
    "    \"\"\"\n",
    "\n",
    "    # catCols, catButCar\n",
    "    catCols = [col for col in dataframe.columns if dataframe[col].dtypes == \"O\"]\n",
    "    numButCat = [col for col in dataframe.columns if dataframe[col].nunique() < catTh and\n",
    "                 dataframe[col].dtypes != \"O\"]\n",
    "    catButCar = [col for col in dataframe.columns if dataframe[col].nunique() > carTh and\n",
    "                 dataframe[col].dtypes == \"O\"]\n",
    "    catCols = catCols + numButCat\n",
    "    catCols = [col for col in catCols if col not in catButCar]\n",
    "\n",
    "    # numCols\n",
    "    numCols = [col for col in dataframe.columns if dataframe[col].dtypes != \"O\"]\n",
    "    numCols = [col for col in numCols if col not in numButCat]\n",
    "\n",
    "    print(f\"Observations: {dataframe.shape[0]}\")\n",
    "    print(f\"Variables: {dataframe.shape[1]}\")\n",
    "    print(f'catCols: {len(catCols)}')\n",
    "    print(f'numCols: {len(numCols)}')\n",
    "    print(f'catButCar: {len(catButCar)}')\n",
    "    print(f'numButCat: {len(numButCat)}')\n",
    "    return catCols, numCols, catButCar\n",
    "\n",
    "\n",
    "catCols, numCols, catButCar = grabColNames(df)"
   ]
  },
  {
   "cell_type": "code",
   "execution_count": 5,
   "id": "a6b80bd8",
   "metadata": {
    "execution": {
     "iopub.execute_input": "2023-04-01T09:59:55.424645Z",
     "iopub.status.busy": "2023-04-01T09:59:55.424251Z",
     "iopub.status.idle": "2023-04-01T09:59:55.430493Z",
     "shell.execute_reply": "2023-04-01T09:59:55.429518Z"
    },
    "papermill": {
     "duration": 0.022804,
     "end_time": "2023-04-01T09:59:55.432603",
     "exception": false,
     "start_time": "2023-04-01T09:59:55.409799",
     "status": "completed"
    },
    "tags": []
   },
   "outputs": [
    {
     "data": {
      "text/plain": [
       "['OUTCOME']"
      ]
     },
     "execution_count": 5,
     "metadata": {},
     "output_type": "execute_result"
    }
   ],
   "source": [
    "catCols"
   ]
  },
  {
   "cell_type": "code",
   "execution_count": 6,
   "id": "8d975af8",
   "metadata": {
    "execution": {
     "iopub.execute_input": "2023-04-01T09:59:55.461791Z",
     "iopub.status.busy": "2023-04-01T09:59:55.460184Z",
     "iopub.status.idle": "2023-04-01T09:59:55.468371Z",
     "shell.execute_reply": "2023-04-01T09:59:55.466888Z"
    },
    "papermill": {
     "duration": 0.025404,
     "end_time": "2023-04-01T09:59:55.471080",
     "exception": false,
     "start_time": "2023-04-01T09:59:55.445676",
     "status": "completed"
    },
    "tags": []
   },
   "outputs": [
    {
     "data": {
      "text/plain": [
       "['PREGNANCIES',\n",
       " 'GLUCOSE',\n",
       " 'BLOODPRESSURE',\n",
       " 'SKINTHICKNESS',\n",
       " 'INSULIN',\n",
       " 'BMI',\n",
       " 'DIABETESPEDIGREEFUNCTION',\n",
       " 'AGE']"
      ]
     },
     "execution_count": 6,
     "metadata": {},
     "output_type": "execute_result"
    }
   ],
   "source": [
    "numCols"
   ]
  },
  {
   "cell_type": "code",
   "execution_count": 7,
   "id": "c9374b7f",
   "metadata": {
    "execution": {
     "iopub.execute_input": "2023-04-01T09:59:55.501737Z",
     "iopub.status.busy": "2023-04-01T09:59:55.501165Z",
     "iopub.status.idle": "2023-04-01T09:59:55.508608Z",
     "shell.execute_reply": "2023-04-01T09:59:55.507592Z"
    },
    "papermill": {
     "duration": 0.026615,
     "end_time": "2023-04-01T09:59:55.511679",
     "exception": false,
     "start_time": "2023-04-01T09:59:55.485064",
     "status": "completed"
    },
    "tags": []
   },
   "outputs": [
    {
     "data": {
      "text/plain": [
       "[]"
      ]
     },
     "execution_count": 7,
     "metadata": {},
     "output_type": "execute_result"
    }
   ],
   "source": [
    "catButCar"
   ]
  },
  {
   "cell_type": "markdown",
   "id": "29a9398a",
   "metadata": {
    "papermill": {
     "duration": 0.012935,
     "end_time": "2023-04-01T09:59:55.538356",
     "exception": false,
     "start_time": "2023-04-01T09:59:55.525421",
     "status": "completed"
    },
    "tags": []
   },
   "source": [
    "Adım 3: Numerik ve kategorik değişkenlerin analizini yapınız.\n",
    "\n"
   ]
  },
  {
   "cell_type": "code",
   "execution_count": 8,
   "id": "b050b7ac",
   "metadata": {
    "execution": {
     "iopub.execute_input": "2023-04-01T09:59:55.567398Z",
     "iopub.status.busy": "2023-04-01T09:59:55.566651Z",
     "iopub.status.idle": "2023-04-01T09:59:55.580548Z",
     "shell.execute_reply": "2023-04-01T09:59:55.578829Z"
    },
    "papermill": {
     "duration": 0.03195,
     "end_time": "2023-04-01T09:59:55.583939",
     "exception": false,
     "start_time": "2023-04-01T09:59:55.551989",
     "status": "completed"
    },
    "tags": []
   },
   "outputs": [
    {
     "name": "stdout",
     "output_type": "stream",
     "text": [
      "   OUTCOME      Ratio\n",
      "0      500  65.104167\n",
      "1      268  34.895833\n",
      "##########################################\n"
     ]
    }
   ],
   "source": [
    "def catSummary(dataframe, colName, plot=False):\n",
    "    print(pd.DataFrame({colName: dataframe[colName].value_counts(),\n",
    "                        \"Ratio\": 100 * dataframe[colName].value_counts() / len(dataframe)}))\n",
    "    print(\"##########################################\")\n",
    "\n",
    "    if plot:\n",
    "        sns.countplot(x=dataframe[colName], data=dataframe)\n",
    "        plt.show(block=True)\n",
    "\n",
    "\n",
    "catSummary(df, \"OUTCOME\")\n",
    "    "
   ]
  },
  {
   "cell_type": "code",
   "execution_count": 9,
   "id": "d8072ae5",
   "metadata": {
    "execution": {
     "iopub.execute_input": "2023-04-01T09:59:55.613691Z",
     "iopub.status.busy": "2023-04-01T09:59:55.613256Z",
     "iopub.status.idle": "2023-04-01T09:59:57.578986Z",
     "shell.execute_reply": "2023-04-01T09:59:57.577566Z"
    },
    "papermill": {
     "duration": 1.984118,
     "end_time": "2023-04-01T09:59:57.581826",
     "exception": false,
     "start_time": "2023-04-01T09:59:55.597708",
     "status": "completed"
    },
    "tags": []
   },
   "outputs": [
    {
     "name": "stdout",
     "output_type": "stream",
     "text": [
      "PREGNANCIES:\n",
      "count    768.000000\n",
      "mean       3.845052\n",
      "std        3.369578\n",
      "min        0.000000\n",
      "5%         0.000000\n",
      "10%        0.000000\n",
      "20%        1.000000\n",
      "30%        1.000000\n",
      "40%        2.000000\n",
      "50%        3.000000\n",
      "60%        4.000000\n",
      "70%        5.000000\n",
      "80%        7.000000\n",
      "90%        9.000000\n",
      "95%       10.000000\n",
      "99%       13.000000\n",
      "100%      17.000000\n",
      "max       17.000000\n",
      "Name: PREGNANCIES, dtype: float64\n"
     ]
    },
    {
     "data": {
      "image/png": "[encoded data removed]",
      "text/plain": [
       "<Figure size 640x480 with 1 Axes>"
      ]
     },
     "metadata": {},
     "output_type": "display_data"
    },
    {
     "name": "stdout",
     "output_type": "stream",
     "text": [
      "GLUCOSE:\n",
      "count    768.000000\n",
      "mean     120.894531\n",
      "std       31.972618\n",
      "min        0.000000\n",
      "5%        79.000000\n",
      "10%       85.000000\n",
      "20%       95.000000\n",
      "30%      102.000000\n",
      "40%      109.000000\n",
      "50%      117.000000\n",
      "60%      125.000000\n",
      "70%      134.000000\n",
      "80%      147.000000\n",
      "90%      167.000000\n",
      "95%      181.000000\n",
      "99%      196.000000\n",
      "100%     199.000000\n",
      "max      199.000000\n",
      "Name: GLUCOSE, dtype: float64\n"
     ]
    },
    {
     "data": {
      "image/png": "[encoded data removed]",
      "text/plain": [
       "<Figure size 640x480 with 1 Axes>"
      ]
     },
     "metadata": {},
     "output_type": "display_data"
    },
    {
     "name": "stdout",
     "output_type": "stream",
     "text": [
      "BLOODPRESSURE:\n",
      "count    768.000000\n",
      "mean      69.105469\n",
      "std       19.355807\n",
      "min        0.000000\n",
      "5%        38.700000\n",
      "10%       54.000000\n",
      "20%       60.000000\n",
      "30%       64.000000\n",
      "40%       68.000000\n",
      "50%       72.000000\n",
      "60%       74.000000\n",
      "70%       78.000000\n",
      "80%       82.000000\n",
      "90%       88.000000\n",
      "95%       90.000000\n",
      "99%      106.000000\n",
      "100%     122.000000\n",
      "max      122.000000\n",
      "Name: BLOODPRESSURE, dtype: float64\n"
     ]
    },
    {
     "data": {
      "image/png": "[encoded data removed]",
      "text/plain": [
       "<Figure size 640x480 with 1 Axes>"
      ]
     },
     "metadata": {},
     "output_type": "display_data"
    },
    {
     "name": "stdout",
     "output_type": "stream",
     "text": [
      "SKINTHICKNESS:\n",
      "count    768.000000\n",
      "mean      20.536458\n",
      "std       15.952218\n",
      "min        0.000000\n",
      "5%         0.000000\n",
      "10%        0.000000\n",
      "20%        0.000000\n",
      "30%        8.200000\n",
      "40%       18.000000\n",
      "50%       23.000000\n",
      "60%       27.000000\n",
      "70%       31.000000\n",
      "80%       35.000000\n",
      "90%       40.000000\n",
      "95%       44.000000\n",
      "99%       51.330000\n",
      "100%      99.000000\n",
      "max       99.000000\n",
      "Name: SKINTHICKNESS, dtype: float64\n"
     ]
    },
    {
     "data": {
      "image/png": "[encoded data removed]",
      "text/plain": [
       "<Figure size 640x480 with 1 Axes>"
      ]
     },
     "metadata": {},
     "output_type": "display_data"
    },
    {
     "name": "stdout",
     "output_type": "stream",
     "text": [
      "INSULIN:\n",
      "count    768.000000\n",
      "mean      79.799479\n",
      "std      115.244002\n",
      "min        0.000000\n",
      "5%         0.000000\n",
      "10%        0.000000\n",
      "20%        0.000000\n",
      "30%        0.000000\n",
      "40%        0.000000\n",
      "50%       30.500000\n",
      "60%       72.200000\n",
      "70%      106.000000\n",
      "80%      150.000000\n",
      "90%      210.000000\n",
      "95%      293.000000\n",
      "99%      519.900000\n",
      "100%     846.000000\n",
      "max      846.000000\n",
      "Name: INSULIN, dtype: float64\n"
     ]
    },
    {
     "data": {
      "image/png": "[encoded data removed]",
      "text/plain": [
       "<Figure size 640x480 with 1 Axes>"
      ]
     },
     "metadata": {},
     "output_type": "display_data"
    },
    {
     "name": "stdout",
     "output_type": "stream",
     "text": [
      "BMI:\n",
      "count    768.000000\n",
      "mean      31.992578\n",
      "std        7.884160\n",
      "min        0.000000\n",
      "5%        21.800000\n",
      "10%       23.600000\n",
      "20%       25.900000\n",
      "30%       28.200000\n",
      "40%       30.100000\n",
      "50%       32.000000\n",
      "60%       33.700000\n",
      "70%       35.490000\n",
      "80%       37.800000\n",
      "90%       41.500000\n",
      "95%       44.395000\n",
      "99%       50.759000\n",
      "100%      67.100000\n",
      "max       67.100000\n",
      "Name: BMI, dtype: float64\n"
     ]
    },
    {
     "data": {
      "image/png": "[encoded data removed]",
      "text/plain": [
       "<Figure size 640x480 with 1 Axes>"
      ]
     },
     "metadata": {},
     "output_type": "display_data"
    },
    {
     "name": "stdout",
     "output_type": "stream",
     "text": [
      "DIABETESPEDIGREEFUNCTION:\n",
      "count    768.000000\n",
      "mean       0.471876\n",
      "std        0.331329\n",
      "min        0.078000\n",
      "5%         0.140350\n",
      "10%        0.165000\n",
      "20%        0.219400\n",
      "30%        0.259000\n",
      "40%        0.302800\n",
      "50%        0.372500\n",
      "60%        0.454200\n",
      "70%        0.563700\n",
      "80%        0.687000\n",
      "90%        0.878600\n",
      "95%        1.132850\n",
      "99%        1.698330\n",
      "100%       2.420000\n",
      "max        2.420000\n",
      "Name: DIABETESPEDIGREEFUNCTION, dtype: float64\n"
     ]
    },
    {
     "data": {
      "image/png": "[encoded data removed]",
      "text/plain": [
       "<Figure size 640x480 with 1 Axes>"
      ]
     },
     "metadata": {},
     "output_type": "display_data"
    },
    {
     "name": "stdout",
     "output_type": "stream",
     "text": [
      "AGE:\n",
      "count    768.000000\n",
      "mean      33.240885\n",
      "std       11.760232\n",
      "min       21.000000\n",
      "5%        21.000000\n",
      "10%       22.000000\n",
      "20%       23.000000\n",
      "30%       25.000000\n",
      "40%       27.000000\n",
      "50%       29.000000\n",
      "60%       33.000000\n",
      "70%       38.000000\n",
      "80%       42.600000\n",
      "90%       51.000000\n",
      "95%       58.000000\n",
      "99%       67.000000\n",
      "100%      81.000000\n",
      "max       81.000000\n",
      "Name: AGE, dtype: float64\n"
     ]
    },
    {
     "data": {
      "image/png": "[encoded data removed]",
      "text/plain": [
       "<Figure size 640x480 with 1 Axes>"
      ]
     },
     "metadata": {},
     "output_type": "display_data"
    }
   ],
   "source": [
    "def numSummary(dataframe, numericalCol, plot=False):\n",
    "    quantiles = [0.05, 0.1, 0.2, 0.3, 0.4, 0.5, 0.6, 0.7, 0.8, 0.9, 0.95, 0.99, 1]\n",
    "    print(dataframe[numericalCol].describe(quantiles).T)\n",
    "    \n",
    "    if plot:\n",
    "        dataframe[numericalCol].hist()\n",
    "        plt.xlabel(numericalCol)\n",
    "        plt.title(numericalCol)\n",
    "        plt.show(block=True)\n",
    "\n",
    "for col in numCols:\n",
    "    print(f\"{col}:\")\n",
    "    numSummary(df, col, True)"
   ]
  },
  {
   "cell_type": "markdown",
   "id": "5efd48c8",
   "metadata": {
    "papermill": {
     "duration": 0.016707,
     "end_time": "2023-04-01T09:59:57.617034",
     "exception": false,
     "start_time": "2023-04-01T09:59:57.600327",
     "status": "completed"
    },
    "tags": []
   },
   "source": [
    "Adım 4: Hedef değişken analizi yapınız. (Kategorik değişkenlere göre hedef değişkenin ortalaması, hedef değişkene göre numerik değişkenlerin ortalaması)"
   ]
  },
  {
   "cell_type": "code",
   "execution_count": 10,
   "id": "07e05b33",
   "metadata": {
    "execution": {
     "iopub.execute_input": "2023-04-01T09:59:57.654934Z",
     "iopub.status.busy": "2023-04-01T09:59:57.653439Z",
     "iopub.status.idle": "2023-04-01T09:59:57.687673Z",
     "shell.execute_reply": "2023-04-01T09:59:57.685446Z"
    },
    "papermill": {
     "duration": 0.055958,
     "end_time": "2023-04-01T09:59:57.690807",
     "exception": false,
     "start_time": "2023-04-01T09:59:57.634849",
     "status": "completed"
    },
    "tags": []
   },
   "outputs": [
    {
     "name": "stdout",
     "output_type": "stream",
     "text": [
      "         PREGNANCIES\n",
      "OUTCOME             \n",
      "0           3.298000\n",
      "1           4.865672\n",
      "\n",
      "\n",
      "            GLUCOSE\n",
      "OUTCOME            \n",
      "0        109.980000\n",
      "1        141.257463\n",
      "\n",
      "\n",
      "         BLOODPRESSURE\n",
      "OUTCOME               \n",
      "0            68.184000\n",
      "1            70.824627\n",
      "\n",
      "\n",
      "         SKINTHICKNESS\n",
      "OUTCOME               \n",
      "0            19.664000\n",
      "1            22.164179\n",
      "\n",
      "\n",
      "            INSULIN\n",
      "OUTCOME            \n",
      "0         68.792000\n",
      "1        100.335821\n",
      "\n",
      "\n",
      "               BMI\n",
      "OUTCOME           \n",
      "0        30.304200\n",
      "1        35.142537\n",
      "\n",
      "\n",
      "         DIABETESPEDIGREEFUNCTION\n",
      "OUTCOME                          \n",
      "0                        0.429734\n",
      "1                        0.550500\n",
      "\n",
      "\n",
      "               AGE\n",
      "OUTCOME           \n",
      "0        31.190000\n",
      "1        37.067164\n",
      "\n",
      "\n"
     ]
    }
   ],
   "source": [
    "def targetSummaryWithNum(dataframe, target, numCol):\n",
    "    print(dataframe.groupby(target).agg({numCol: \"mean\"}), end=\"\\n\\n\\n\")\n",
    "for col in numCols:\n",
    "    targetSummaryWithNum(df, 'OUTCOME', col)"
   ]
  },
  {
   "cell_type": "code",
   "execution_count": 11,
   "id": "f41b50d2",
   "metadata": {
    "execution": {
     "iopub.execute_input": "2023-04-01T09:59:57.726215Z",
     "iopub.status.busy": "2023-04-01T09:59:57.725821Z",
     "iopub.status.idle": "2023-04-01T09:59:57.745749Z",
     "shell.execute_reply": "2023-04-01T09:59:57.744557Z"
    },
    "papermill": {
     "duration": 0.040808,
     "end_time": "2023-04-01T09:59:57.748508",
     "exception": false,
     "start_time": "2023-04-01T09:59:57.707700",
     "status": "completed"
    },
    "tags": []
   },
   "outputs": [
    {
     "data": {
      "text/html": [
       "<div>\n",
       "<style scoped>\n",
       "    .dataframe tbody tr th:only-of-type {\n",
       "        vertical-align: middle;\n",
       "    }\n",
       "\n",
       "    .dataframe tbody tr th {\n",
       "        vertical-align: top;\n",
       "    }\n",
       "\n",
       "    .dataframe thead th {\n",
       "        text-align: right;\n",
       "    }\n",
       "</style>\n",
       "<table border=\"1\" class=\"dataframe\">\n",
       "  <thead>\n",
       "    <tr style=\"text-align: right;\">\n",
       "      <th></th>\n",
       "      <th>PREGNANCIES</th>\n",
       "      <th>GLUCOSE</th>\n",
       "      <th>BLOODPRESSURE</th>\n",
       "      <th>SKINTHICKNESS</th>\n",
       "      <th>INSULIN</th>\n",
       "      <th>BMI</th>\n",
       "      <th>DIABETESPEDIGREEFUNCTION</th>\n",
       "      <th>AGE</th>\n",
       "      <th>OUTCOME</th>\n",
       "    </tr>\n",
       "  </thead>\n",
       "  <tbody>\n",
       "    <tr>\n",
       "      <th>PREGNANCIES</th>\n",
       "      <td>1.000000</td>\n",
       "      <td>0.129459</td>\n",
       "      <td>0.141282</td>\n",
       "      <td>-0.081672</td>\n",
       "      <td>-0.073535</td>\n",
       "      <td>0.017683</td>\n",
       "      <td>-0.033523</td>\n",
       "      <td>0.544341</td>\n",
       "      <td>0.221898</td>\n",
       "    </tr>\n",
       "    <tr>\n",
       "      <th>GLUCOSE</th>\n",
       "      <td>0.129459</td>\n",
       "      <td>1.000000</td>\n",
       "      <td>0.152590</td>\n",
       "      <td>0.057328</td>\n",
       "      <td>0.331357</td>\n",
       "      <td>0.221071</td>\n",
       "      <td>0.137337</td>\n",
       "      <td>0.263514</td>\n",
       "      <td>0.466581</td>\n",
       "    </tr>\n",
       "    <tr>\n",
       "      <th>BLOODPRESSURE</th>\n",
       "      <td>0.141282</td>\n",
       "      <td>0.152590</td>\n",
       "      <td>1.000000</td>\n",
       "      <td>0.207371</td>\n",
       "      <td>0.088933</td>\n",
       "      <td>0.281805</td>\n",
       "      <td>0.041265</td>\n",
       "      <td>0.239528</td>\n",
       "      <td>0.065068</td>\n",
       "    </tr>\n",
       "    <tr>\n",
       "      <th>SKINTHICKNESS</th>\n",
       "      <td>-0.081672</td>\n",
       "      <td>0.057328</td>\n",
       "      <td>0.207371</td>\n",
       "      <td>1.000000</td>\n",
       "      <td>0.436783</td>\n",
       "      <td>0.392573</td>\n",
       "      <td>0.183928</td>\n",
       "      <td>-0.113970</td>\n",
       "      <td>0.074752</td>\n",
       "    </tr>\n",
       "    <tr>\n",
       "      <th>INSULIN</th>\n",
       "      <td>-0.073535</td>\n",
       "      <td>0.331357</td>\n",
       "      <td>0.088933</td>\n",
       "      <td>0.436783</td>\n",
       "      <td>1.000000</td>\n",
       "      <td>0.197859</td>\n",
       "      <td>0.185071</td>\n",
       "      <td>-0.042163</td>\n",
       "      <td>0.130548</td>\n",
       "    </tr>\n",
       "    <tr>\n",
       "      <th>BMI</th>\n",
       "      <td>0.017683</td>\n",
       "      <td>0.221071</td>\n",
       "      <td>0.281805</td>\n",
       "      <td>0.392573</td>\n",
       "      <td>0.197859</td>\n",
       "      <td>1.000000</td>\n",
       "      <td>0.140647</td>\n",
       "      <td>0.036242</td>\n",
       "      <td>0.292695</td>\n",
       "    </tr>\n",
       "    <tr>\n",
       "      <th>DIABETESPEDIGREEFUNCTION</th>\n",
       "      <td>-0.033523</td>\n",
       "      <td>0.137337</td>\n",
       "      <td>0.041265</td>\n",
       "      <td>0.183928</td>\n",
       "      <td>0.185071</td>\n",
       "      <td>0.140647</td>\n",
       "      <td>1.000000</td>\n",
       "      <td>0.033561</td>\n",
       "      <td>0.173844</td>\n",
       "    </tr>\n",
       "    <tr>\n",
       "      <th>AGE</th>\n",
       "      <td>0.544341</td>\n",
       "      <td>0.263514</td>\n",
       "      <td>0.239528</td>\n",
       "      <td>-0.113970</td>\n",
       "      <td>-0.042163</td>\n",
       "      <td>0.036242</td>\n",
       "      <td>0.033561</td>\n",
       "      <td>1.000000</td>\n",
       "      <td>0.238356</td>\n",
       "    </tr>\n",
       "    <tr>\n",
       "      <th>OUTCOME</th>\n",
       "      <td>0.221898</td>\n",
       "      <td>0.466581</td>\n",
       "      <td>0.065068</td>\n",
       "      <td>0.074752</td>\n",
       "      <td>0.130548</td>\n",
       "      <td>0.292695</td>\n",
       "      <td>0.173844</td>\n",
       "      <td>0.238356</td>\n",
       "      <td>1.000000</td>\n",
       "    </tr>\n",
       "  </tbody>\n",
       "</table>\n",
       "</div>"
      ],
      "text/plain": [
       "                          PREGNANCIES   GLUCOSE  BLOODPRESSURE  SKINTHICKNESS  \\\n",
       "PREGNANCIES                  1.000000  0.129459       0.141282      -0.081672   \n",
       "GLUCOSE                      0.129459  1.000000       0.152590       0.057328   \n",
       "BLOODPRESSURE                0.141282  0.152590       1.000000       0.207371   \n",
       "SKINTHICKNESS               -0.081672  0.057328       0.207371       1.000000   \n",
       "INSULIN                     -0.073535  0.331357       0.088933       0.436783   \n",
       "BMI                          0.017683  0.221071       0.281805       0.392573   \n",
       "DIABETESPEDIGREEFUNCTION    -0.033523  0.137337       0.041265       0.183928   \n",
       "AGE                          0.544341  0.263514       0.239528      -0.113970   \n",
       "OUTCOME                      0.221898  0.466581       0.065068       0.074752   \n",
       "\n",
       "                           INSULIN       BMI  DIABETESPEDIGREEFUNCTION  \\\n",
       "PREGNANCIES              -0.073535  0.017683                 -0.033523   \n",
       "GLUCOSE                   0.331357  0.221071                  0.137337   \n",
       "BLOODPRESSURE             0.088933  0.281805                  0.041265   \n",
       "SKINTHICKNESS             0.436783  0.392573                  0.183928   \n",
       "INSULIN                   1.000000  0.197859                  0.185071   \n",
       "BMI                       0.197859  1.000000                  0.140647   \n",
       "DIABETESPEDIGREEFUNCTION  0.185071  0.140647                  1.000000   \n",
       "AGE                      -0.042163  0.036242                  0.033561   \n",
       "OUTCOME                   0.130548  0.292695                  0.173844   \n",
       "\n",
       "                               AGE   OUTCOME  \n",
       "PREGNANCIES               0.544341  0.221898  \n",
       "GLUCOSE                   0.263514  0.466581  \n",
       "BLOODPRESSURE             0.239528  0.065068  \n",
       "SKINTHICKNESS            -0.113970  0.074752  \n",
       "INSULIN                  -0.042163  0.130548  \n",
       "BMI                       0.036242  0.292695  \n",
       "DIABETESPEDIGREEFUNCTION  0.033561  0.173844  \n",
       "AGE                       1.000000  0.238356  \n",
       "OUTCOME                   0.238356  1.000000  "
      ]
     },
     "execution_count": 11,
     "metadata": {},
     "output_type": "execute_result"
    }
   ],
   "source": [
    "df.corr()\n"
   ]
  },
  {
   "cell_type": "code",
   "execution_count": 12,
   "id": "1a29e1a0",
   "metadata": {
    "execution": {
     "iopub.execute_input": "2023-04-01T09:59:57.788136Z",
     "iopub.status.busy": "2023-04-01T09:59:57.787344Z",
     "iopub.status.idle": "2023-04-01T09:59:58.021036Z",
     "shell.execute_reply": "2023-04-01T09:59:58.019615Z"
    },
    "papermill": {
     "duration": 0.255923,
     "end_time": "2023-04-01T09:59:58.024021",
     "exception": false,
     "start_time": "2023-04-01T09:59:57.768098",
     "status": "completed"
    },
    "tags": []
   },
   "outputs": [],
   "source": [
    "y = df[\"OUTCOME\"]\n",
    "X = df.drop(\"OUTCOME\", axis=1)\n",
    "X_train, X_test, y_train, y_test = train_test_split(X, y, test_size=0.30, random_state=17)\n",
    "\n",
    "rf_model = RandomForestClassifier(random_state=46).fit(X_train, y_train)\n",
    "y_pred = rf_model.predict(X_test)"
   ]
  },
  {
   "cell_type": "code",
   "execution_count": 13,
   "id": "d1fb002c",
   "metadata": {
    "execution": {
     "iopub.execute_input": "2023-04-01T09:59:58.060508Z",
     "iopub.status.busy": "2023-04-01T09:59:58.060088Z",
     "iopub.status.idle": "2023-04-01T09:59:58.538993Z",
     "shell.execute_reply": "2023-04-01T09:59:58.537704Z"
    },
    "papermill": {
     "duration": 0.500888,
     "end_time": "2023-04-01T09:59:58.541902",
     "exception": false,
     "start_time": "2023-04-01T09:59:58.041014",
     "status": "completed"
    },
    "tags": []
   },
   "outputs": [
    {
     "data": {
      "image/png": "[encoded data removed]",
      "text/plain": [
       "<Figure size 1000x1000 with 1 Axes>"
      ]
     },
     "metadata": {},
     "output_type": "display_data"
    }
   ],
   "source": [
    "def plot_importance(model, features, num=len(X), save=False):\n",
    "    feature_imp = pd.DataFrame({'Value': model.feature_importances_, 'Feature': features.columns})\n",
    "    plt.figure(figsize=(10, 10))\n",
    "    sns.set(font_scale=1)\n",
    "    sns.barplot(x=\"Value\", y=\"Feature\", data=feature_imp.sort_values(by=\"Value\",\n",
    "                                                                     ascending=False)[0:num])\n",
    "    plt.title('Features')\n",
    "    plt.tight_layout()\n",
    "    plt.show()\n",
    "    if save:\n",
    "        plt.savefig('importances.png')\n",
    "\n",
    "\n",
    "plot_importance(rf_model, X)"
   ]
  },
  {
   "cell_type": "markdown",
   "id": "b19ee86a",
   "metadata": {
    "papermill": {
     "duration": 0.018296,
     "end_time": "2023-04-01T09:59:58.578673",
     "exception": false,
     "start_time": "2023-04-01T09:59:58.560377",
     "status": "completed"
    },
    "tags": []
   },
   "source": [
    "Adım 5: Aykırı gözlem analizi yapınız.\n",
    "\n"
   ]
  },
  {
   "cell_type": "code",
   "execution_count": 14,
   "id": "10287a83",
   "metadata": {
    "execution": {
     "iopub.execute_input": "2023-04-01T09:59:58.618826Z",
     "iopub.status.busy": "2023-04-01T09:59:58.617511Z",
     "iopub.status.idle": "2023-04-01T09:59:58.657235Z",
     "shell.execute_reply": "2023-04-01T09:59:58.655492Z"
    },
    "papermill": {
     "duration": 0.062196,
     "end_time": "2023-04-01T09:59:58.660195",
     "exception": false,
     "start_time": "2023-04-01T09:59:58.597999",
     "status": "completed"
    },
    "tags": []
   },
   "outputs": [
    {
     "name": "stdout",
     "output_type": "stream",
     "text": [
      "PREGNANCIES --> True\n",
      "GLUCOSE --> True\n",
      "BLOODPRESSURE --> True\n",
      "SKINTHICKNESS --> True\n",
      "INSULIN --> True\n",
      "BMI --> True\n",
      "DIABETESPEDIGREEFUNCTION --> True\n",
      "AGE --> True\n"
     ]
    }
   ],
   "source": [
    "def outlierThresholds(dataframe, colName, q1=0.25, q3=0.75):\n",
    "    quartile1 = dataframe[colName].quantile(q1)\n",
    "    quartile3 = dataframe[colName].quantile(q3)\n",
    "    interquantileRange = quartile3 - quartile1\n",
    "    upLimit = quartile3 + 1.5 * interquantileRange\n",
    "    lowLimit = quartile1 - 1.5 * interquantileRange\n",
    "    return lowLimit, upLimit\n",
    "\n",
    "def checkOutlier(dataframe, colName):\n",
    "    lowLimit, upLimit = outlierThresholds(dataframe, colName)\n",
    "    if dataframe[(dataframe[colName] > upLimit) | (dataframe[colName] < lowLimit)].any(axis=None):\n",
    "        return True\n",
    "    else:\n",
    "        return False\n",
    "    \n",
    "for col in numCols:\n",
    "    print(col, \"-->\", checkOutlier(df, col))"
   ]
  },
  {
   "cell_type": "code",
   "execution_count": 15,
   "id": "18f6094c",
   "metadata": {
    "execution": {
     "iopub.execute_input": "2023-04-01T09:59:58.700669Z",
     "iopub.status.busy": "2023-04-01T09:59:58.699367Z",
     "iopub.status.idle": "2023-04-01T09:59:58.820294Z",
     "shell.execute_reply": "2023-04-01T09:59:58.818096Z"
    },
    "papermill": {
     "duration": 0.144029,
     "end_time": "2023-04-01T09:59:58.823276",
     "exception": false,
     "start_time": "2023-04-01T09:59:58.679247",
     "status": "completed"
    },
    "tags": []
   },
   "outputs": [
    {
     "name": "stdout",
     "output_type": "stream",
     "text": [
      "     PREGNANCIES  GLUCOSE  BLOODPRESSURE  SKINTHICKNESS  INSULIN   BMI  \\\n",
      "88            15      136             70             32      110  37.1   \n",
      "159           17      163             72             41      114  40.9   \n",
      "298           14      100             78             25      184  36.6   \n",
      "455           14      175             62             30        0  33.6   \n",
      "\n",
      "     DIABETESPEDIGREEFUNCTION  AGE  OUTCOME  \n",
      "88                      0.153   43        1  \n",
      "159                     0.817   47        1  \n",
      "298                     0.412   46        1  \n",
      "455                     0.212   38        1  \n",
      "     PREGNANCIES  GLUCOSE  BLOODPRESSURE  SKINTHICKNESS  INSULIN   BMI  \\\n",
      "75             1        0             48             20        0  24.7   \n",
      "182            1        0             74             20       23  27.7   \n",
      "342            1        0             68             35        0  32.0   \n",
      "349            5        0             80             32        0  41.0   \n",
      "502            6        0             68             41        0  39.0   \n",
      "\n",
      "     DIABETESPEDIGREEFUNCTION  AGE  OUTCOME  \n",
      "75                      0.140   22        0  \n",
      "182                     0.299   21        0  \n",
      "342                     0.389   22        0  \n",
      "349                     0.346   37        1  \n",
      "502                     0.727   41        1  \n"
     ]
    },
    {
     "data": {
      "text/html": [
       "<div>\n",
       "<style scoped>\n",
       "    .dataframe tbody tr th:only-of-type {\n",
       "        vertical-align: middle;\n",
       "    }\n",
       "\n",
       "    .dataframe tbody tr th {\n",
       "        vertical-align: top;\n",
       "    }\n",
       "\n",
       "    .dataframe thead th {\n",
       "        text-align: right;\n",
       "    }\n",
       "</style>\n",
       "<table border=\"1\" class=\"dataframe\">\n",
       "  <thead>\n",
       "    <tr style=\"text-align: right;\">\n",
       "      <th></th>\n",
       "      <th>PREGNANCIES</th>\n",
       "      <th>GLUCOSE</th>\n",
       "      <th>BLOODPRESSURE</th>\n",
       "      <th>SKINTHICKNESS</th>\n",
       "      <th>INSULIN</th>\n",
       "      <th>BMI</th>\n",
       "      <th>DIABETESPEDIGREEFUNCTION</th>\n",
       "      <th>AGE</th>\n",
       "      <th>OUTCOME</th>\n",
       "    </tr>\n",
       "  </thead>\n",
       "  <tbody>\n",
       "    <tr>\n",
       "      <th>7</th>\n",
       "      <td>10</td>\n",
       "      <td>115</td>\n",
       "      <td>0</td>\n",
       "      <td>0</td>\n",
       "      <td>0</td>\n",
       "      <td>35.3</td>\n",
       "      <td>0.134</td>\n",
       "      <td>29</td>\n",
       "      <td>0</td>\n",
       "    </tr>\n",
       "    <tr>\n",
       "      <th>15</th>\n",
       "      <td>7</td>\n",
       "      <td>100</td>\n",
       "      <td>0</td>\n",
       "      <td>0</td>\n",
       "      <td>0</td>\n",
       "      <td>30.0</td>\n",
       "      <td>0.484</td>\n",
       "      <td>32</td>\n",
       "      <td>1</td>\n",
       "    </tr>\n",
       "    <tr>\n",
       "      <th>18</th>\n",
       "      <td>1</td>\n",
       "      <td>103</td>\n",
       "      <td>30</td>\n",
       "      <td>38</td>\n",
       "      <td>83</td>\n",
       "      <td>43.3</td>\n",
       "      <td>0.183</td>\n",
       "      <td>33</td>\n",
       "      <td>0</td>\n",
       "    </tr>\n",
       "    <tr>\n",
       "      <th>43</th>\n",
       "      <td>9</td>\n",
       "      <td>171</td>\n",
       "      <td>110</td>\n",
       "      <td>24</td>\n",
       "      <td>240</td>\n",
       "      <td>45.4</td>\n",
       "      <td>0.721</td>\n",
       "      <td>54</td>\n",
       "      <td>1</td>\n",
       "    </tr>\n",
       "    <tr>\n",
       "      <th>49</th>\n",
       "      <td>7</td>\n",
       "      <td>105</td>\n",
       "      <td>0</td>\n",
       "      <td>0</td>\n",
       "      <td>0</td>\n",
       "      <td>0.0</td>\n",
       "      <td>0.305</td>\n",
       "      <td>24</td>\n",
       "      <td>0</td>\n",
       "    </tr>\n",
       "  </tbody>\n",
       "</table>\n",
       "</div>"
      ],
      "text/plain": [
       "    PREGNANCIES  GLUCOSE  BLOODPRESSURE  SKINTHICKNESS  INSULIN   BMI  \\\n",
       "7            10      115              0              0        0  35.3   \n",
       "15            7      100              0              0        0  30.0   \n",
       "18            1      103             30             38       83  43.3   \n",
       "43            9      171            110             24      240  45.4   \n",
       "49            7      105              0              0        0   0.0   \n",
       "\n",
       "    DIABETESPEDIGREEFUNCTION  AGE  OUTCOME  \n",
       "7                      0.134   29        0  \n",
       "15                     0.484   32        1  \n",
       "18                     0.183   33        0  \n",
       "43                     0.721   54        1  \n",
       "49                     0.305   24        0  "
      ]
     },
     "metadata": {},
     "output_type": "display_data"
    },
    {
     "name": "stdout",
     "output_type": "stream",
     "text": [
      "None\n",
      "     PREGNANCIES  GLUCOSE  BLOODPRESSURE  SKINTHICKNESS  INSULIN   BMI  \\\n",
      "579            2      197             70             99        0  34.7   \n",
      "\n",
      "     DIABETESPEDIGREEFUNCTION  AGE  OUTCOME  \n",
      "579                     0.575   62        1  \n"
     ]
    },
    {
     "data": {
      "text/html": [
       "<div>\n",
       "<style scoped>\n",
       "    .dataframe tbody tr th:only-of-type {\n",
       "        vertical-align: middle;\n",
       "    }\n",
       "\n",
       "    .dataframe tbody tr th {\n",
       "        vertical-align: top;\n",
       "    }\n",
       "\n",
       "    .dataframe thead th {\n",
       "        text-align: right;\n",
       "    }\n",
       "</style>\n",
       "<table border=\"1\" class=\"dataframe\">\n",
       "  <thead>\n",
       "    <tr style=\"text-align: right;\">\n",
       "      <th></th>\n",
       "      <th>PREGNANCIES</th>\n",
       "      <th>GLUCOSE</th>\n",
       "      <th>BLOODPRESSURE</th>\n",
       "      <th>SKINTHICKNESS</th>\n",
       "      <th>INSULIN</th>\n",
       "      <th>BMI</th>\n",
       "      <th>DIABETESPEDIGREEFUNCTION</th>\n",
       "      <th>AGE</th>\n",
       "      <th>OUTCOME</th>\n",
       "    </tr>\n",
       "  </thead>\n",
       "  <tbody>\n",
       "    <tr>\n",
       "      <th>8</th>\n",
       "      <td>2</td>\n",
       "      <td>197</td>\n",
       "      <td>70</td>\n",
       "      <td>45</td>\n",
       "      <td>543</td>\n",
       "      <td>30.5</td>\n",
       "      <td>0.158</td>\n",
       "      <td>53</td>\n",
       "      <td>1</td>\n",
       "    </tr>\n",
       "    <tr>\n",
       "      <th>13</th>\n",
       "      <td>1</td>\n",
       "      <td>189</td>\n",
       "      <td>60</td>\n",
       "      <td>23</td>\n",
       "      <td>846</td>\n",
       "      <td>30.1</td>\n",
       "      <td>0.398</td>\n",
       "      <td>59</td>\n",
       "      <td>1</td>\n",
       "    </tr>\n",
       "    <tr>\n",
       "      <th>54</th>\n",
       "      <td>7</td>\n",
       "      <td>150</td>\n",
       "      <td>66</td>\n",
       "      <td>42</td>\n",
       "      <td>342</td>\n",
       "      <td>34.7</td>\n",
       "      <td>0.718</td>\n",
       "      <td>42</td>\n",
       "      <td>0</td>\n",
       "    </tr>\n",
       "    <tr>\n",
       "      <th>111</th>\n",
       "      <td>8</td>\n",
       "      <td>155</td>\n",
       "      <td>62</td>\n",
       "      <td>26</td>\n",
       "      <td>495</td>\n",
       "      <td>34.0</td>\n",
       "      <td>0.543</td>\n",
       "      <td>46</td>\n",
       "      <td>1</td>\n",
       "    </tr>\n",
       "    <tr>\n",
       "      <th>139</th>\n",
       "      <td>5</td>\n",
       "      <td>105</td>\n",
       "      <td>72</td>\n",
       "      <td>29</td>\n",
       "      <td>325</td>\n",
       "      <td>36.9</td>\n",
       "      <td>0.159</td>\n",
       "      <td>28</td>\n",
       "      <td>0</td>\n",
       "    </tr>\n",
       "  </tbody>\n",
       "</table>\n",
       "</div>"
      ],
      "text/plain": [
       "     PREGNANCIES  GLUCOSE  BLOODPRESSURE  SKINTHICKNESS  INSULIN   BMI  \\\n",
       "8              2      197             70             45      543  30.5   \n",
       "13             1      189             60             23      846  30.1   \n",
       "54             7      150             66             42      342  34.7   \n",
       "111            8      155             62             26      495  34.0   \n",
       "139            5      105             72             29      325  36.9   \n",
       "\n",
       "     DIABETESPEDIGREEFUNCTION  AGE  OUTCOME  \n",
       "8                       0.158   53        1  \n",
       "13                      0.398   59        1  \n",
       "54                      0.718   42        0  \n",
       "111                     0.543   46        1  \n",
       "139                     0.159   28        0  "
      ]
     },
     "metadata": {},
     "output_type": "display_data"
    },
    {
     "name": "stdout",
     "output_type": "stream",
     "text": [
      "None\n"
     ]
    },
    {
     "data": {
      "text/html": [
       "<div>\n",
       "<style scoped>\n",
       "    .dataframe tbody tr th:only-of-type {\n",
       "        vertical-align: middle;\n",
       "    }\n",
       "\n",
       "    .dataframe tbody tr th {\n",
       "        vertical-align: top;\n",
       "    }\n",
       "\n",
       "    .dataframe thead th {\n",
       "        text-align: right;\n",
       "    }\n",
       "</style>\n",
       "<table border=\"1\" class=\"dataframe\">\n",
       "  <thead>\n",
       "    <tr style=\"text-align: right;\">\n",
       "      <th></th>\n",
       "      <th>PREGNANCIES</th>\n",
       "      <th>GLUCOSE</th>\n",
       "      <th>BLOODPRESSURE</th>\n",
       "      <th>SKINTHICKNESS</th>\n",
       "      <th>INSULIN</th>\n",
       "      <th>BMI</th>\n",
       "      <th>DIABETESPEDIGREEFUNCTION</th>\n",
       "      <th>AGE</th>\n",
       "      <th>OUTCOME</th>\n",
       "    </tr>\n",
       "  </thead>\n",
       "  <tbody>\n",
       "    <tr>\n",
       "      <th>9</th>\n",
       "      <td>8</td>\n",
       "      <td>125</td>\n",
       "      <td>96</td>\n",
       "      <td>0</td>\n",
       "      <td>0</td>\n",
       "      <td>0.0</td>\n",
       "      <td>0.232</td>\n",
       "      <td>54</td>\n",
       "      <td>1</td>\n",
       "    </tr>\n",
       "    <tr>\n",
       "      <th>49</th>\n",
       "      <td>7</td>\n",
       "      <td>105</td>\n",
       "      <td>0</td>\n",
       "      <td>0</td>\n",
       "      <td>0</td>\n",
       "      <td>0.0</td>\n",
       "      <td>0.305</td>\n",
       "      <td>24</td>\n",
       "      <td>0</td>\n",
       "    </tr>\n",
       "    <tr>\n",
       "      <th>60</th>\n",
       "      <td>2</td>\n",
       "      <td>84</td>\n",
       "      <td>0</td>\n",
       "      <td>0</td>\n",
       "      <td>0</td>\n",
       "      <td>0.0</td>\n",
       "      <td>0.304</td>\n",
       "      <td>21</td>\n",
       "      <td>0</td>\n",
       "    </tr>\n",
       "    <tr>\n",
       "      <th>81</th>\n",
       "      <td>2</td>\n",
       "      <td>74</td>\n",
       "      <td>0</td>\n",
       "      <td>0</td>\n",
       "      <td>0</td>\n",
       "      <td>0.0</td>\n",
       "      <td>0.102</td>\n",
       "      <td>22</td>\n",
       "      <td>0</td>\n",
       "    </tr>\n",
       "    <tr>\n",
       "      <th>120</th>\n",
       "      <td>0</td>\n",
       "      <td>162</td>\n",
       "      <td>76</td>\n",
       "      <td>56</td>\n",
       "      <td>100</td>\n",
       "      <td>53.2</td>\n",
       "      <td>0.759</td>\n",
       "      <td>25</td>\n",
       "      <td>1</td>\n",
       "    </tr>\n",
       "  </tbody>\n",
       "</table>\n",
       "</div>"
      ],
      "text/plain": [
       "     PREGNANCIES  GLUCOSE  BLOODPRESSURE  SKINTHICKNESS  INSULIN   BMI  \\\n",
       "9              8      125             96              0        0   0.0   \n",
       "49             7      105              0              0        0   0.0   \n",
       "60             2       84              0              0        0   0.0   \n",
       "81             2       74              0              0        0   0.0   \n",
       "120            0      162             76             56      100  53.2   \n",
       "\n",
       "     DIABETESPEDIGREEFUNCTION  AGE  OUTCOME  \n",
       "9                       0.232   54        1  \n",
       "49                      0.305   24        0  \n",
       "60                      0.304   21        0  \n",
       "81                      0.102   22        0  \n",
       "120                     0.759   25        1  "
      ]
     },
     "metadata": {},
     "output_type": "display_data"
    },
    {
     "name": "stdout",
     "output_type": "stream",
     "text": [
      "None\n"
     ]
    },
    {
     "data": {
      "text/html": [
       "<div>\n",
       "<style scoped>\n",
       "    .dataframe tbody tr th:only-of-type {\n",
       "        vertical-align: middle;\n",
       "    }\n",
       "\n",
       "    .dataframe tbody tr th {\n",
       "        vertical-align: top;\n",
       "    }\n",
       "\n",
       "    .dataframe thead th {\n",
       "        text-align: right;\n",
       "    }\n",
       "</style>\n",
       "<table border=\"1\" class=\"dataframe\">\n",
       "  <thead>\n",
       "    <tr style=\"text-align: right;\">\n",
       "      <th></th>\n",
       "      <th>PREGNANCIES</th>\n",
       "      <th>GLUCOSE</th>\n",
       "      <th>BLOODPRESSURE</th>\n",
       "      <th>SKINTHICKNESS</th>\n",
       "      <th>INSULIN</th>\n",
       "      <th>BMI</th>\n",
       "      <th>DIABETESPEDIGREEFUNCTION</th>\n",
       "      <th>AGE</th>\n",
       "      <th>OUTCOME</th>\n",
       "    </tr>\n",
       "  </thead>\n",
       "  <tbody>\n",
       "    <tr>\n",
       "      <th>4</th>\n",
       "      <td>0</td>\n",
       "      <td>137</td>\n",
       "      <td>40</td>\n",
       "      <td>35</td>\n",
       "      <td>168</td>\n",
       "      <td>43.1</td>\n",
       "      <td>2.288</td>\n",
       "      <td>33</td>\n",
       "      <td>1</td>\n",
       "    </tr>\n",
       "    <tr>\n",
       "      <th>12</th>\n",
       "      <td>10</td>\n",
       "      <td>139</td>\n",
       "      <td>80</td>\n",
       "      <td>0</td>\n",
       "      <td>0</td>\n",
       "      <td>27.1</td>\n",
       "      <td>1.441</td>\n",
       "      <td>57</td>\n",
       "      <td>0</td>\n",
       "    </tr>\n",
       "    <tr>\n",
       "      <th>39</th>\n",
       "      <td>4</td>\n",
       "      <td>111</td>\n",
       "      <td>72</td>\n",
       "      <td>47</td>\n",
       "      <td>207</td>\n",
       "      <td>37.1</td>\n",
       "      <td>1.390</td>\n",
       "      <td>56</td>\n",
       "      <td>1</td>\n",
       "    </tr>\n",
       "    <tr>\n",
       "      <th>45</th>\n",
       "      <td>0</td>\n",
       "      <td>180</td>\n",
       "      <td>66</td>\n",
       "      <td>39</td>\n",
       "      <td>0</td>\n",
       "      <td>42.0</td>\n",
       "      <td>1.893</td>\n",
       "      <td>25</td>\n",
       "      <td>1</td>\n",
       "    </tr>\n",
       "    <tr>\n",
       "      <th>58</th>\n",
       "      <td>0</td>\n",
       "      <td>146</td>\n",
       "      <td>82</td>\n",
       "      <td>0</td>\n",
       "      <td>0</td>\n",
       "      <td>40.5</td>\n",
       "      <td>1.781</td>\n",
       "      <td>44</td>\n",
       "      <td>0</td>\n",
       "    </tr>\n",
       "  </tbody>\n",
       "</table>\n",
       "</div>"
      ],
      "text/plain": [
       "    PREGNANCIES  GLUCOSE  BLOODPRESSURE  SKINTHICKNESS  INSULIN   BMI  \\\n",
       "4             0      137             40             35      168  43.1   \n",
       "12           10      139             80              0        0  27.1   \n",
       "39            4      111             72             47      207  37.1   \n",
       "45            0      180             66             39        0  42.0   \n",
       "58            0      146             82              0        0  40.5   \n",
       "\n",
       "    DIABETESPEDIGREEFUNCTION  AGE  OUTCOME  \n",
       "4                      2.288   33        1  \n",
       "12                     1.441   57        0  \n",
       "39                     1.390   56        1  \n",
       "45                     1.893   25        1  \n",
       "58                     1.781   44        0  "
      ]
     },
     "metadata": {},
     "output_type": "display_data"
    },
    {
     "name": "stdout",
     "output_type": "stream",
     "text": [
      "None\n",
      "     PREGNANCIES  GLUCOSE  BLOODPRESSURE  SKINTHICKNESS  INSULIN   BMI  \\\n",
      "123            5      132             80              0        0  26.8   \n",
      "363            4      146             78              0        0  38.5   \n",
      "453            2      119              0              0        0  19.6   \n",
      "459            9      134             74             33       60  25.9   \n",
      "489            8      194             80              0        0  26.1   \n",
      "537            0       57             60              0        0  21.7   \n",
      "666            4      145             82             18        0  32.5   \n",
      "674            8       91             82              0        0  35.6   \n",
      "684            5      136             82              0        0   0.0   \n",
      "\n",
      "     DIABETESPEDIGREEFUNCTION  AGE  OUTCOME  \n",
      "123                     0.186   69        0  \n",
      "363                     0.520   67        1  \n",
      "453                     0.832   72        0  \n",
      "459                     0.460   81        0  \n",
      "489                     0.551   67        0  \n",
      "537                     0.735   67        0  \n",
      "666                     0.235   70        1  \n",
      "674                     0.587   68        0  \n",
      "684                     0.640   69        0  \n"
     ]
    }
   ],
   "source": [
    "def grabOutliers(dataframe, colName, index=False):\n",
    "    low, up = outlierThresholds(dataframe, colName)\n",
    "\n",
    "    if dataframe[((dataframe[colName] < low) | (dataframe[colName] > up))].shape[0] > 10:\n",
    "        print(display(dataframe[((dataframe[colName] < low) | (dataframe[colName] > up))].head()))\n",
    "    else:\n",
    "        print((dataframe[((dataframe[colName] < low) | (dataframe[colName] > up))]))\n",
    "\n",
    "    if index:\n",
    "        outlier_index = dataframe[((dataframe[colName] < low) | (dataframe[colName] > up))].index\n",
    "        return outlier_index\n",
    "for col in numCols:\n",
    "    col, grabOutliers(df, col, True)"
   ]
  },
  {
   "cell_type": "code",
   "execution_count": 16,
   "id": "a07754a4",
   "metadata": {
    "execution": {
     "iopub.execute_input": "2023-04-01T09:59:58.864313Z",
     "iopub.status.busy": "2023-04-01T09:59:58.863792Z",
     "iopub.status.idle": "2023-04-01T09:59:59.182689Z",
     "shell.execute_reply": "2023-04-01T09:59:59.181237Z"
    },
    "papermill": {
     "duration": 0.342522,
     "end_time": "2023-04-01T09:59:59.185410",
     "exception": false,
     "start_time": "2023-04-01T09:59:58.842888",
     "status": "completed"
    },
    "tags": []
   },
   "outputs": [
    {
     "data": {
      "image/png": "[encoded data removed]",
      "text/plain": [
       "<Figure size 640x480 with 1 Axes>"
      ]
     },
     "metadata": {},
     "output_type": "display_data"
    }
   ],
   "source": [
    "clf = LocalOutlierFactor(n_neighbors=20) \n",
    "clf.fit_predict(df)\n",
    "dfScores = clf.negative_outlier_factor_\n",
    "scores = pd.DataFrame(np.sort(dfScores))\n",
    "scores.plot(stacked=True, xlim=[0, 40], style=\".-\")\n",
    "plt.show()"
   ]
  },
  {
   "cell_type": "markdown",
   "id": "bf90bca8",
   "metadata": {
    "papermill": {
     "duration": 0.01931,
     "end_time": "2023-04-01T09:59:59.224594",
     "exception": false,
     "start_time": "2023-04-01T09:59:59.205284",
     "status": "completed"
    },
    "tags": []
   },
   "source": [
    "Adım 6: Eksik gözlem analizi yapınız."
   ]
  },
  {
   "cell_type": "code",
   "execution_count": 17,
   "id": "15b96bfe",
   "metadata": {
    "execution": {
     "iopub.execute_input": "2023-04-01T09:59:59.267698Z",
     "iopub.status.busy": "2023-04-01T09:59:59.267220Z",
     "iopub.status.idle": "2023-04-01T09:59:59.285010Z",
     "shell.execute_reply": "2023-04-01T09:59:59.282908Z"
    },
    "papermill": {
     "duration": 0.043053,
     "end_time": "2023-04-01T09:59:59.288200",
     "exception": false,
     "start_time": "2023-04-01T09:59:59.245147",
     "status": "completed"
    },
    "tags": []
   },
   "outputs": [
    {
     "name": "stdout",
     "output_type": "stream",
     "text": [
      "Empty DataFrame\n",
      "Columns: [n_miss, ratio]\n",
      "Index: []\n"
     ]
    }
   ],
   "source": [
    "def missingValuesTable(dataframe,naName = False):\n",
    "    naColums = [col for col in dataframe.columns if dataframe[col].isnull().sum() > 0]\n",
    "    nMiss = dataframe[naColums].isnull().sum().sort_values(ascending=False)\n",
    "    ratio = (dataframe[naColums].isnull().sum() / dataframe.shape[0] * 100).sort_values(ascending=False)\n",
    "    missingDf = pd.concat([nMiss, np.round(ratio, 2)], axis=1, keys=['n_miss', 'ratio'])\n",
    "    print(missingDf,end='\\n')\n",
    "    if naName:\n",
    "        return naColums\n",
    "missingValuesTable(df)"
   ]
  },
  {
   "cell_type": "markdown",
   "id": "4dfb888e",
   "metadata": {
    "papermill": {
     "duration": 0.020128,
     "end_time": "2023-04-01T09:59:59.329050",
     "exception": false,
     "start_time": "2023-04-01T09:59:59.308922",
     "status": "completed"
    },
    "tags": []
   },
   "source": [
    "Adım 7: Korelasyon analizi yapınız\n",
    "\n"
   ]
  },
  {
   "cell_type": "code",
   "execution_count": 18,
   "id": "ec8e08e6",
   "metadata": {
    "execution": {
     "iopub.execute_input": "2023-04-01T09:59:59.372136Z",
     "iopub.status.busy": "2023-04-01T09:59:59.370722Z",
     "iopub.status.idle": "2023-04-01T09:59:59.391545Z",
     "shell.execute_reply": "2023-04-01T09:59:59.390054Z"
    },
    "papermill": {
     "duration": 0.045545,
     "end_time": "2023-04-01T09:59:59.394567",
     "exception": false,
     "start_time": "2023-04-01T09:59:59.349022",
     "status": "completed"
    },
    "tags": []
   },
   "outputs": [
    {
     "data": {
      "text/html": [
       "<div>\n",
       "<style scoped>\n",
       "    .dataframe tbody tr th:only-of-type {\n",
       "        vertical-align: middle;\n",
       "    }\n",
       "\n",
       "    .dataframe tbody tr th {\n",
       "        vertical-align: top;\n",
       "    }\n",
       "\n",
       "    .dataframe thead th {\n",
       "        text-align: right;\n",
       "    }\n",
       "</style>\n",
       "<table border=\"1\" class=\"dataframe\">\n",
       "  <thead>\n",
       "    <tr style=\"text-align: right;\">\n",
       "      <th></th>\n",
       "      <th>PREGNANCIES</th>\n",
       "      <th>GLUCOSE</th>\n",
       "      <th>BLOODPRESSURE</th>\n",
       "      <th>SKINTHICKNESS</th>\n",
       "      <th>INSULIN</th>\n",
       "      <th>BMI</th>\n",
       "      <th>DIABETESPEDIGREEFUNCTION</th>\n",
       "      <th>AGE</th>\n",
       "    </tr>\n",
       "  </thead>\n",
       "  <tbody>\n",
       "    <tr>\n",
       "      <th>PREGNANCIES</th>\n",
       "      <td>1.000000</td>\n",
       "      <td>0.129459</td>\n",
       "      <td>0.141282</td>\n",
       "      <td>-0.081672</td>\n",
       "      <td>-0.073535</td>\n",
       "      <td>0.017683</td>\n",
       "      <td>-0.033523</td>\n",
       "      <td>0.544341</td>\n",
       "    </tr>\n",
       "    <tr>\n",
       "      <th>GLUCOSE</th>\n",
       "      <td>0.129459</td>\n",
       "      <td>1.000000</td>\n",
       "      <td>0.152590</td>\n",
       "      <td>0.057328</td>\n",
       "      <td>0.331357</td>\n",
       "      <td>0.221071</td>\n",
       "      <td>0.137337</td>\n",
       "      <td>0.263514</td>\n",
       "    </tr>\n",
       "    <tr>\n",
       "      <th>BLOODPRESSURE</th>\n",
       "      <td>0.141282</td>\n",
       "      <td>0.152590</td>\n",
       "      <td>1.000000</td>\n",
       "      <td>0.207371</td>\n",
       "      <td>0.088933</td>\n",
       "      <td>0.281805</td>\n",
       "      <td>0.041265</td>\n",
       "      <td>0.239528</td>\n",
       "    </tr>\n",
       "    <tr>\n",
       "      <th>SKINTHICKNESS</th>\n",
       "      <td>-0.081672</td>\n",
       "      <td>0.057328</td>\n",
       "      <td>0.207371</td>\n",
       "      <td>1.000000</td>\n",
       "      <td>0.436783</td>\n",
       "      <td>0.392573</td>\n",
       "      <td>0.183928</td>\n",
       "      <td>-0.113970</td>\n",
       "    </tr>\n",
       "    <tr>\n",
       "      <th>INSULIN</th>\n",
       "      <td>-0.073535</td>\n",
       "      <td>0.331357</td>\n",
       "      <td>0.088933</td>\n",
       "      <td>0.436783</td>\n",
       "      <td>1.000000</td>\n",
       "      <td>0.197859</td>\n",
       "      <td>0.185071</td>\n",
       "      <td>-0.042163</td>\n",
       "    </tr>\n",
       "    <tr>\n",
       "      <th>BMI</th>\n",
       "      <td>0.017683</td>\n",
       "      <td>0.221071</td>\n",
       "      <td>0.281805</td>\n",
       "      <td>0.392573</td>\n",
       "      <td>0.197859</td>\n",
       "      <td>1.000000</td>\n",
       "      <td>0.140647</td>\n",
       "      <td>0.036242</td>\n",
       "    </tr>\n",
       "    <tr>\n",
       "      <th>DIABETESPEDIGREEFUNCTION</th>\n",
       "      <td>-0.033523</td>\n",
       "      <td>0.137337</td>\n",
       "      <td>0.041265</td>\n",
       "      <td>0.183928</td>\n",
       "      <td>0.185071</td>\n",
       "      <td>0.140647</td>\n",
       "      <td>1.000000</td>\n",
       "      <td>0.033561</td>\n",
       "    </tr>\n",
       "    <tr>\n",
       "      <th>AGE</th>\n",
       "      <td>0.544341</td>\n",
       "      <td>0.263514</td>\n",
       "      <td>0.239528</td>\n",
       "      <td>-0.113970</td>\n",
       "      <td>-0.042163</td>\n",
       "      <td>0.036242</td>\n",
       "      <td>0.033561</td>\n",
       "      <td>1.000000</td>\n",
       "    </tr>\n",
       "  </tbody>\n",
       "</table>\n",
       "</div>"
      ],
      "text/plain": [
       "                          PREGNANCIES   GLUCOSE  BLOODPRESSURE  SKINTHICKNESS  \\\n",
       "PREGNANCIES                  1.000000  0.129459       0.141282      -0.081672   \n",
       "GLUCOSE                      0.129459  1.000000       0.152590       0.057328   \n",
       "BLOODPRESSURE                0.141282  0.152590       1.000000       0.207371   \n",
       "SKINTHICKNESS               -0.081672  0.057328       0.207371       1.000000   \n",
       "INSULIN                     -0.073535  0.331357       0.088933       0.436783   \n",
       "BMI                          0.017683  0.221071       0.281805       0.392573   \n",
       "DIABETESPEDIGREEFUNCTION    -0.033523  0.137337       0.041265       0.183928   \n",
       "AGE                          0.544341  0.263514       0.239528      -0.113970   \n",
       "\n",
       "                           INSULIN       BMI  DIABETESPEDIGREEFUNCTION  \\\n",
       "PREGNANCIES              -0.073535  0.017683                 -0.033523   \n",
       "GLUCOSE                   0.331357  0.221071                  0.137337   \n",
       "BLOODPRESSURE             0.088933  0.281805                  0.041265   \n",
       "SKINTHICKNESS             0.436783  0.392573                  0.183928   \n",
       "INSULIN                   1.000000  0.197859                  0.185071   \n",
       "BMI                       0.197859  1.000000                  0.140647   \n",
       "DIABETESPEDIGREEFUNCTION  0.185071  0.140647                  1.000000   \n",
       "AGE                      -0.042163  0.036242                  0.033561   \n",
       "\n",
       "                               AGE  \n",
       "PREGNANCIES               0.544341  \n",
       "GLUCOSE                   0.263514  \n",
       "BLOODPRESSURE             0.239528  \n",
       "SKINTHICKNESS            -0.113970  \n",
       "INSULIN                  -0.042163  \n",
       "BMI                       0.036242  \n",
       "DIABETESPEDIGREEFUNCTION  0.033561  \n",
       "AGE                       1.000000  "
      ]
     },
     "execution_count": 18,
     "metadata": {},
     "output_type": "execute_result"
    }
   ],
   "source": [
    "corr = df[numCols].corr()\n",
    "corr"
   ]
  },
  {
   "cell_type": "code",
   "execution_count": 19,
   "id": "87b41ee7",
   "metadata": {
    "execution": {
     "iopub.execute_input": "2023-04-01T09:59:59.437268Z",
     "iopub.status.busy": "2023-04-01T09:59:59.436354Z",
     "iopub.status.idle": "2023-04-01T10:00:00.333905Z",
     "shell.execute_reply": "2023-04-01T10:00:00.332729Z"
    },
    "papermill": {
     "duration": 0.924032,
     "end_time": "2023-04-01T10:00:00.338658",
     "exception": false,
     "start_time": "2023-04-01T09:59:59.414626",
     "status": "completed"
    },
    "tags": []
   },
   "outputs": [
    {
     "data": {
      "image/png": "[encoded data removed]",
      "text/plain": [
       "<Figure size 1200x1200 with 2 Axes>"
      ]
     },
     "metadata": {},
     "output_type": "display_data"
    }
   ],
   "source": [
    "sns.set(rc={\"figure.figsize\": (12, 12)})\n",
    "sns.heatmap(corr, cmap=\"RdBu\", annot=True) \n",
    "plt.show()"
   ]
  },
  {
   "cell_type": "markdown",
   "id": "35a77e36",
   "metadata": {
    "papermill": {
     "duration": 0.023137,
     "end_time": "2023-04-01T10:00:00.386250",
     "exception": false,
     "start_time": "2023-04-01T10:00:00.363113",
     "status": "completed"
    },
    "tags": []
   },
   "source": [
    "Görev 2\n",
    "\n",
    "Adım 1: Eksik ve aykırı değerler için gerekli işlemleri yapınız. Veri setinde eksik gözlem bulunmamakta ama Glikoz, Insulin vb. değişkenlerde 0 değeri içeren gözlem birimleri eksik değeri ifade ediyor olabilir. Örneğin; bir kişinin glikoz veya insulin değeri 0 olamayacaktır. Bu durumu dikkate alarak sıfır değerlerini ilgili değerlerde NaN olarak atama yapıp sonrasında eksik değerlere işlemleri uygulayabilirsiniz."
   ]
  },
  {
   "cell_type": "code",
   "execution_count": 20,
   "id": "b5be7a29",
   "metadata": {
    "execution": {
     "iopub.execute_input": "2023-04-01T10:00:00.435955Z",
     "iopub.status.busy": "2023-04-01T10:00:00.435190Z",
     "iopub.status.idle": "2023-04-01T10:00:00.456720Z",
     "shell.execute_reply": "2023-04-01T10:00:00.455277Z"
    },
    "papermill": {
     "duration": 0.050947,
     "end_time": "2023-04-01T10:00:00.459508",
     "exception": false,
     "start_time": "2023-04-01T10:00:00.408561",
     "status": "completed"
    },
    "tags": []
   },
   "outputs": [
    {
     "data": {
      "text/plain": [
       "PREGNANCIES                 0\n",
       "GLUCOSE                     0\n",
       "BLOODPRESSURE               0\n",
       "SKINTHICKNESS               0\n",
       "INSULIN                     0\n",
       "BMI                         0\n",
       "DIABETESPEDIGREEFUNCTION    0\n",
       "AGE                         0\n",
       "OUTCOME                     0\n",
       "dtype: int64"
      ]
     },
     "execution_count": 20,
     "metadata": {},
     "output_type": "execute_result"
    }
   ],
   "source": [
    "df = df.apply(lambda x: x.fillna(x.mean()) if x.dtype != \"O\" else x, axis=0)\n",
    "df = df.apply(lambda x: x.fillna(x.mode()[0]) if (x.dtype == \"O\" and len(x.unique()) <= 10) else x, axis=0)\n",
    "df.isnull().sum()"
   ]
  },
  {
   "cell_type": "code",
   "execution_count": 21,
   "id": "4e34fabb",
   "metadata": {
    "execution": {
     "iopub.execute_input": "2023-04-01T10:00:00.511932Z",
     "iopub.status.busy": "2023-04-01T10:00:00.510903Z",
     "iopub.status.idle": "2023-04-01T10:00:00.519973Z",
     "shell.execute_reply": "2023-04-01T10:00:00.518198Z"
    },
    "papermill": {
     "duration": 0.040415,
     "end_time": "2023-04-01T10:00:00.522858",
     "exception": false,
     "start_time": "2023-04-01T10:00:00.482443",
     "status": "completed"
    },
    "tags": []
   },
   "outputs": [],
   "source": [
    "def missingVsTarget(dataframe, target, naColumns):\n",
    "    tempDf = dataframe.copy()\n",
    "    for col in naColumns:\n",
    "        tempDf[col + '_NA_FLAG'] = np.where(tempDf[col].isnull(), 1, 0)\n",
    "    naFlags = tempDf.loc[:, tempDf.columns.str.contains('_NA_')].columns\n",
    "    for col in naFlags:\n",
    "        print(pd.DataFrame({'TARGET_MEAN': tempDf.groupby(col)[target].mean(),\n",
    "                            'Count': tempDf.groupby(col)[target].count()}), end='\\n\\n\\n')"
   ]
  },
  {
   "cell_type": "code",
   "execution_count": 22,
   "id": "97fedde2",
   "metadata": {
    "execution": {
     "iopub.execute_input": "2023-04-01T10:00:00.572529Z",
     "iopub.status.busy": "2023-04-01T10:00:00.572053Z",
     "iopub.status.idle": "2023-04-01T10:00:00.593163Z",
     "shell.execute_reply": "2023-04-01T10:00:00.591574Z"
    },
    "papermill": {
     "duration": 0.051152,
     "end_time": "2023-04-01T10:00:00.596562",
     "exception": false,
     "start_time": "2023-04-01T10:00:00.545410",
     "status": "completed"
    },
    "tags": []
   },
   "outputs": [
    {
     "name": "stdout",
     "output_type": "stream",
     "text": [
      "               n_miss  ratio\n",
      "INSULIN           374  48.70\n",
      "SKINTHICKNESS     227  29.56\n",
      "BLOODPRESSURE      35   4.56\n",
      "BMI                11   1.43\n",
      "GLUCOSE             5   0.65\n"
     ]
    }
   ],
   "source": [
    "zeroToNanCols = ['GLUCOSE', 'BLOODPRESSURE', 'SKINTHICKNESS', 'INSULIN', 'BMI']\n",
    "for col in zeroToNanCols:\n",
    "    df[col] = df[col].replace({'0':np.nan, 0:np.nan})\n",
    "    \n",
    "missingValuesTable(df)"
   ]
  },
  {
   "cell_type": "code",
   "execution_count": 23,
   "id": "3b6e5dc8",
   "metadata": {
    "execution": {
     "iopub.execute_input": "2023-04-01T10:00:00.646597Z",
     "iopub.status.busy": "2023-04-01T10:00:00.646150Z",
     "iopub.status.idle": "2023-04-01T10:00:00.673080Z",
     "shell.execute_reply": "2023-04-01T10:00:00.671836Z"
    },
    "papermill": {
     "duration": 0.054704,
     "end_time": "2023-04-01T10:00:00.676073",
     "exception": false,
     "start_time": "2023-04-01T10:00:00.621369",
     "status": "completed"
    },
    "tags": []
   },
   "outputs": [
    {
     "name": "stdout",
     "output_type": "stream",
     "text": [
      "                 TARGET_MEAN  Count\n",
      "GLUCOSE_NA_FLAG                    \n",
      "0                   0.348624    763\n",
      "1                   0.400000      5\n",
      "\n",
      "\n",
      "                       TARGET_MEAN  Count\n",
      "BLOODPRESSURE_NA_FLAG                    \n",
      "0                         0.343793    733\n",
      "1                         0.457143     35\n",
      "\n",
      "\n",
      "                       TARGET_MEAN  Count\n",
      "SKINTHICKNESS_NA_FLAG                    \n",
      "0                         0.332717    541\n",
      "1                         0.387665    227\n",
      "\n",
      "\n",
      "                 TARGET_MEAN  Count\n",
      "INSULIN_NA_FLAG                    \n",
      "0                   0.329949    394\n",
      "1                   0.368984    374\n",
      "\n",
      "\n",
      "             TARGET_MEAN  Count\n",
      "BMI_NA_FLAG                    \n",
      "0               0.351387    757\n",
      "1               0.181818     11\n",
      "\n",
      "\n"
     ]
    }
   ],
   "source": [
    "missingVsTarget(df, 'OUTCOME', zeroToNanCols)\n"
   ]
  },
  {
   "cell_type": "code",
   "execution_count": 24,
   "id": "8a28ecea",
   "metadata": {
    "execution": {
     "iopub.execute_input": "2023-04-01T10:00:00.724097Z",
     "iopub.status.busy": "2023-04-01T10:00:00.723687Z",
     "iopub.status.idle": "2023-04-01T10:00:00.790076Z",
     "shell.execute_reply": "2023-04-01T10:00:00.788515Z"
    },
    "papermill": {
     "duration": 0.093124,
     "end_time": "2023-04-01T10:00:00.793157",
     "exception": false,
     "start_time": "2023-04-01T10:00:00.700033",
     "status": "completed"
    },
    "tags": []
   },
   "outputs": [
    {
     "name": "stdout",
     "output_type": "stream",
     "text": [
      "PREGNANCIES False\n",
      "GLUCOSE False\n",
      "BLOODPRESSURE False\n",
      "SKINTHICKNESS False\n",
      "INSULIN False\n",
      "BMI False\n",
      "DIABETESPEDIGREEFUNCTION False\n",
      "AGE False\n"
     ]
    }
   ],
   "source": [
    "def replaceWithThresholds(dataframe, colName):\n",
    "    low, up = outlierThresholds(dataframe, colName)\n",
    "\n",
    "    dataframe.loc[dataframe[colName] > up, colName] = up\n",
    "    dataframe.loc[dataframe[colName] < low, colName] = low\n",
    "    \n",
    "for col in numCols:\n",
    "    replaceWithThresholds(df, col)\n",
    "for col in numCols:\n",
    "    print(col, checkOutlier(df, col))"
   ]
  },
  {
   "cell_type": "code",
   "execution_count": 25,
   "id": "0bc38caa",
   "metadata": {
    "execution": {
     "iopub.execute_input": "2023-04-01T10:00:00.841467Z",
     "iopub.status.busy": "2023-04-01T10:00:00.840988Z",
     "iopub.status.idle": "2023-04-01T10:00:00.852196Z",
     "shell.execute_reply": "2023-04-01T10:00:00.850860Z"
    },
    "papermill": {
     "duration": 0.038348,
     "end_time": "2023-04-01T10:00:00.855057",
     "exception": false,
     "start_time": "2023-04-01T10:00:00.816709",
     "status": "completed"
    },
    "tags": []
   },
   "outputs": [],
   "source": [
    "df[\"INSULIN\"].fillna(df[\"INSULIN\"].mean(), inplace=True)\n",
    "df[\"SKINTHICKNESS\"].fillna(df[\"SKINTHICKNESS\"].mean(), inplace=True)\n",
    "df[\"BMI\"].fillna(df[\"BMI\"].mean(), inplace=True)\n",
    "df[\"BLOODPRESSURE\"].fillna(df[\"BLOODPRESSURE\"].mean(), inplace=True)\n",
    "df[\"GLUCOSE\"].fillna(df[\"GLUCOSE\"].mean(), inplace=True)"
   ]
  },
  {
   "cell_type": "code",
   "execution_count": 26,
   "id": "3e87df3d",
   "metadata": {
    "execution": {
     "iopub.execute_input": "2023-04-01T10:00:00.902868Z",
     "iopub.status.busy": "2023-04-01T10:00:00.902395Z",
     "iopub.status.idle": "2023-04-01T10:00:00.925977Z",
     "shell.execute_reply": "2023-04-01T10:00:00.924602Z"
    },
    "papermill": {
     "duration": 0.050884,
     "end_time": "2023-04-01T10:00:00.928995",
     "exception": false,
     "start_time": "2023-04-01T10:00:00.878111",
     "status": "completed"
    },
    "tags": []
   },
   "outputs": [
    {
     "data": {
      "text/plain": [
       "array([ 1,  1,  1,  1, -1,  1,  1,  1,  1,  1,  1,  1,  1,  1,  1,  1,  1,\n",
       "        1,  1,  1,  1,  1,  1,  1,  1,  1,  1,  1,  1,  1,  1,  1,  1,  1,\n",
       "        1,  1,  1,  1,  1,  1, -1,  1,  1,  1,  1,  1,  1,  1,  1,  1,  1,\n",
       "        1,  1,  1,  1, -1,  1,  1,  1,  1,  1,  1, -1,  1,  1,  1,  1,  1,\n",
       "        1,  1,  1,  1,  1,  1,  1,  1,  1,  1,  1,  1,  1,  1,  1,  1,  1,\n",
       "        1,  1,  1,  1,  1,  1,  1,  1,  1,  1,  1,  1,  1,  1,  1,  1,  1,\n",
       "        1,  1,  1,  1,  1,  1,  1,  1,  1,  1,  1,  1,  1,  1,  1,  1,  1,\n",
       "        1,  1,  1,  1,  1,  1,  1,  1,  1,  1,  1,  1,  1,  1,  1,  1,  1,\n",
       "        1,  1,  1,  1,  1,  1,  1,  1,  1,  1,  1,  1,  1,  1,  1,  1,  1,\n",
       "        1,  1,  1,  1,  1,  1,  1,  1,  1,  1,  1,  1,  1,  1,  1,  1,  1,\n",
       "        1,  1,  1,  1,  1,  1,  1,  1,  1,  1,  1,  1,  1,  1,  1,  1,  1,\n",
       "        1,  1,  1,  1,  1,  1,  1,  1,  1,  1,  1,  1,  1,  1,  1,  1,  1,\n",
       "        1,  1,  1,  1,  1,  1,  1,  1,  1,  1,  1,  1,  1,  1,  1,  1,  1,\n",
       "        1,  1,  1,  1,  1,  1,  1,  1,  1,  1,  1,  1,  1,  1,  1,  1,  1,\n",
       "        1,  1,  1,  1,  1,  1,  1,  1,  1,  1,  1,  1,  1,  1,  1,  1,  1,\n",
       "        1,  1,  1,  1,  1,  1,  1,  1,  1,  1,  1,  1,  1,  1,  1,  1,  1,\n",
       "        1,  1,  1,  1,  1,  1,  1,  1,  1,  1,  1,  1,  1,  1,  1,  1,  1,\n",
       "        1,  1,  1,  1,  1, -1,  1,  1,  1,  1,  1,  1,  1,  1,  1,  1,  1,\n",
       "        1,  1,  1,  1,  1,  1,  1,  1,  1,  1,  1,  1,  1,  1,  1,  1,  1,\n",
       "       -1,  1,  1,  1,  1,  1,  1,  1,  1,  1,  1,  1,  1,  1,  1,  1,  1,\n",
       "        1,  1,  1,  1,  1,  1,  1,  1,  1,  1,  1,  1,  1,  1,  1,  1,  1,\n",
       "        1,  1,  1,  1,  1,  1,  1,  1,  1,  1,  1,  1,  1,  1,  1,  1,  1,\n",
       "        1,  1,  1,  1,  1,  1,  1,  1,  1,  1,  1,  1,  1,  1,  1,  1,  1,\n",
       "        1,  1,  1,  1,  1,  1,  1,  1,  1,  1,  1,  1,  1,  1,  1,  1,  1,\n",
       "        1,  1,  1,  1,  1,  1,  1,  1,  1,  1,  1,  1,  1,  1,  1,  1,  1,\n",
       "        1,  1,  1,  1,  1,  1,  1,  1,  1,  1,  1,  1,  1,  1,  1,  1,  1,\n",
       "        1,  1,  1, -1,  1,  1,  1,  1,  1,  1,  1,  1,  1,  1,  1,  1,  1,\n",
       "        1,  1,  1,  1,  1,  1,  1,  1,  1,  1,  1,  1,  1,  1,  1,  1,  1,\n",
       "        1,  1,  1,  1,  1,  1,  1, -1,  1,  1,  1,  1,  1,  1,  1,  1,  1,\n",
       "        1,  1,  1,  1,  1,  1,  1,  1,  1,  1,  1,  1,  1,  1,  1,  1,  1,\n",
       "        1,  1,  1,  1,  1,  1,  1,  1,  1,  1,  1,  1,  1,  1,  1,  1,  1,\n",
       "        1,  1,  1,  1,  1,  1,  1,  1,  1,  1, -1,  1,  1,  1,  1,  1,  1,\n",
       "        1,  1,  1,  1,  1,  1,  1,  1,  1,  1,  1,  1,  1,  1,  1,  1,  1,\n",
       "        1,  1,  1,  1,  1,  1,  1,  1,  1,  1,  1,  1,  1,  1,  1, -1,  1,\n",
       "        1, -1,  1,  1,  1,  1,  1,  1,  1,  1,  1,  1,  1,  1,  1,  1,  1,\n",
       "        1,  1,  1,  1,  1,  1,  1,  1,  1,  1,  1,  1,  1,  1,  1,  1,  1,\n",
       "        1,  1,  1,  1,  1,  1,  1,  1,  1,  1,  1,  1,  1,  1,  1,  1,  1,\n",
       "        1,  1,  1,  1,  1,  1,  1,  1,  1,  1,  1,  1,  1,  1,  1,  1,  1,\n",
       "        1,  1,  1,  1,  1,  1,  1,  1,  1,  1,  1,  1,  1,  1,  1,  1,  1,\n",
       "        1,  1,  1,  1,  1,  1,  1,  1,  1, -1,  1,  1,  1,  1,  1,  1,  1,\n",
       "        1,  1,  1,  1,  1,  1,  1,  1,  1,  1,  1,  1,  1,  1,  1,  1,  1,\n",
       "        1,  1,  1,  1,  1,  1,  1,  1,  1,  1,  1,  1,  1,  1, -1,  1,  1,\n",
       "        1,  1,  1,  1,  1,  1,  1,  1,  1,  1,  1,  1,  1,  1,  1,  1,  1,\n",
       "        1,  1, -1,  1,  1,  1,  1,  1,  1,  1,  1,  1,  1,  1,  1,  1,  1,\n",
       "        1,  1,  1,  1,  1,  1,  1,  1,  1,  1,  1,  1,  1,  1,  1, -1,  1,\n",
       "        1,  1,  1])"
      ]
     },
     "execution_count": 26,
     "metadata": {},
     "output_type": "execute_result"
    }
   ],
   "source": [
    "clf = LocalOutlierFactor(n_neighbors=20) \n",
    "clf.fit_predict(df)"
   ]
  },
  {
   "cell_type": "code",
   "execution_count": 27,
   "id": "fc086773",
   "metadata": {
    "execution": {
     "iopub.execute_input": "2023-04-01T10:00:00.975660Z",
     "iopub.status.busy": "2023-04-01T10:00:00.975212Z",
     "iopub.status.idle": "2023-04-01T10:00:01.331767Z",
     "shell.execute_reply": "2023-04-01T10:00:01.330242Z"
    },
    "papermill": {
     "duration": 0.382994,
     "end_time": "2023-04-01T10:00:01.334385",
     "exception": false,
     "start_time": "2023-04-01T10:00:00.951391",
     "status": "completed"
    },
    "tags": []
   },
   "outputs": [
    {
     "data": {
      "image/png": "[encoded data removed]",
      "text/plain": [
       "<Figure size 1200x1200 with 1 Axes>"
      ]
     },
     "metadata": {},
     "output_type": "display_data"
    }
   ],
   "source": [
    "df_scores = clf.negative_outlier_factor_\n",
    "sorted_df_scores = np.sort(df_scores)\n",
    "scores = pd.DataFrame(sorted_df_scores)\n",
    "scores.plot(stacked=True, xlim=[0, 20], style='.-')\n",
    "plt.show()"
   ]
  },
  {
   "cell_type": "code",
   "execution_count": 28,
   "id": "bc514404",
   "metadata": {
    "execution": {
     "iopub.execute_input": "2023-04-01T10:00:01.383813Z",
     "iopub.status.busy": "2023-04-01T10:00:01.383376Z",
     "iopub.status.idle": "2023-04-01T10:00:01.391380Z",
     "shell.execute_reply": "2023-04-01T10:00:01.389747Z"
    },
    "papermill": {
     "duration": 0.036209,
     "end_time": "2023-04-01T10:00:01.394545",
     "exception": false,
     "start_time": "2023-04-01T10:00:01.358336",
     "status": "completed"
    },
    "tags": []
   },
   "outputs": [
    {
     "data": {
      "text/plain": [
       "-1.564318488146627"
      ]
     },
     "execution_count": 28,
     "metadata": {},
     "output_type": "execute_result"
    }
   ],
   "source": [
    "th = sorted_df_scores[7]\n",
    "th"
   ]
  },
  {
   "cell_type": "code",
   "execution_count": 29,
   "id": "23d5dd15",
   "metadata": {
    "execution": {
     "iopub.execute_input": "2023-04-01T10:00:01.443097Z",
     "iopub.status.busy": "2023-04-01T10:00:01.442618Z",
     "iopub.status.idle": "2023-04-01T10:00:01.490367Z",
     "shell.execute_reply": "2023-04-01T10:00:01.488761Z"
    },
    "papermill": {
     "duration": 0.075414,
     "end_time": "2023-04-01T10:00:01.493785",
     "exception": false,
     "start_time": "2023-04-01T10:00:01.418371",
     "status": "completed"
    },
    "tags": []
   },
   "outputs": [
    {
     "data": {
      "text/html": [
       "<div>\n",
       "<style scoped>\n",
       "    .dataframe tbody tr th:only-of-type {\n",
       "        vertical-align: middle;\n",
       "    }\n",
       "\n",
       "    .dataframe tbody tr th {\n",
       "        vertical-align: top;\n",
       "    }\n",
       "\n",
       "    .dataframe thead th {\n",
       "        text-align: right;\n",
       "    }\n",
       "</style>\n",
       "<table border=\"1\" class=\"dataframe\">\n",
       "  <thead>\n",
       "    <tr style=\"text-align: right;\">\n",
       "      <th></th>\n",
       "      <th>count</th>\n",
       "      <th>mean</th>\n",
       "      <th>std</th>\n",
       "      <th>min</th>\n",
       "      <th>1%</th>\n",
       "      <th>5%</th>\n",
       "      <th>50%</th>\n",
       "      <th>75%</th>\n",
       "      <th>90%</th>\n",
       "      <th>99%</th>\n",
       "      <th>max</th>\n",
       "    </tr>\n",
       "  </thead>\n",
       "  <tbody>\n",
       "    <tr>\n",
       "      <th>PREGNANCIES</th>\n",
       "      <td>768.0</td>\n",
       "      <td>3.837240</td>\n",
       "      <td>3.344157</td>\n",
       "      <td>0.000</td>\n",
       "      <td>0.00000</td>\n",
       "      <td>0.00000</td>\n",
       "      <td>3.000000</td>\n",
       "      <td>6.00000</td>\n",
       "      <td>9.0000</td>\n",
       "      <td>13.0000</td>\n",
       "      <td>13.500</td>\n",
       "    </tr>\n",
       "    <tr>\n",
       "      <th>GLUCOSE</th>\n",
       "      <td>768.0</td>\n",
       "      <td>121.686763</td>\n",
       "      <td>30.435949</td>\n",
       "      <td>44.000</td>\n",
       "      <td>67.67000</td>\n",
       "      <td>80.00000</td>\n",
       "      <td>117.000000</td>\n",
       "      <td>140.25000</td>\n",
       "      <td>167.0000</td>\n",
       "      <td>196.0000</td>\n",
       "      <td>199.000</td>\n",
       "    </tr>\n",
       "    <tr>\n",
       "      <th>BLOODPRESSURE</th>\n",
       "      <td>768.0</td>\n",
       "      <td>72.375171</td>\n",
       "      <td>11.696835</td>\n",
       "      <td>40.000</td>\n",
       "      <td>44.00000</td>\n",
       "      <td>52.00000</td>\n",
       "      <td>72.187585</td>\n",
       "      <td>80.00000</td>\n",
       "      <td>88.0000</td>\n",
       "      <td>104.0000</td>\n",
       "      <td>104.000</td>\n",
       "    </tr>\n",
       "    <tr>\n",
       "      <th>SKINTHICKNESS</th>\n",
       "      <td>768.0</td>\n",
       "      <td>29.059150</td>\n",
       "      <td>8.438759</td>\n",
       "      <td>7.000</td>\n",
       "      <td>10.00000</td>\n",
       "      <td>14.35000</td>\n",
       "      <td>29.059150</td>\n",
       "      <td>32.00000</td>\n",
       "      <td>40.0000</td>\n",
       "      <td>51.3300</td>\n",
       "      <td>57.000</td>\n",
       "    </tr>\n",
       "    <tr>\n",
       "      <th>INSULIN</th>\n",
       "      <td>768.0</td>\n",
       "      <td>146.500000</td>\n",
       "      <td>64.672728</td>\n",
       "      <td>14.000</td>\n",
       "      <td>24.34000</td>\n",
       "      <td>50.00000</td>\n",
       "      <td>146.500000</td>\n",
       "      <td>146.50000</td>\n",
       "      <td>210.0000</td>\n",
       "      <td>360.6250</td>\n",
       "      <td>360.625</td>\n",
       "    </tr>\n",
       "    <tr>\n",
       "      <th>BMI</th>\n",
       "      <td>768.0</td>\n",
       "      <td>32.394716</td>\n",
       "      <td>6.667462</td>\n",
       "      <td>18.200</td>\n",
       "      <td>19.50000</td>\n",
       "      <td>22.23500</td>\n",
       "      <td>32.394716</td>\n",
       "      <td>36.60000</td>\n",
       "      <td>41.5000</td>\n",
       "      <td>50.0825</td>\n",
       "      <td>50.250</td>\n",
       "    </tr>\n",
       "    <tr>\n",
       "      <th>DIABETESPEDIGREEFUNCTION</th>\n",
       "      <td>768.0</td>\n",
       "      <td>0.458914</td>\n",
       "      <td>0.285596</td>\n",
       "      <td>0.078</td>\n",
       "      <td>0.09468</td>\n",
       "      <td>0.14035</td>\n",
       "      <td>0.372500</td>\n",
       "      <td>0.62625</td>\n",
       "      <td>0.8786</td>\n",
       "      <td>1.2000</td>\n",
       "      <td>1.200</td>\n",
       "    </tr>\n",
       "    <tr>\n",
       "      <th>AGE</th>\n",
       "      <td>768.0</td>\n",
       "      <td>33.199870</td>\n",
       "      <td>11.628404</td>\n",
       "      <td>21.000</td>\n",
       "      <td>21.00000</td>\n",
       "      <td>21.00000</td>\n",
       "      <td>29.000000</td>\n",
       "      <td>41.00000</td>\n",
       "      <td>51.0000</td>\n",
       "      <td>66.5000</td>\n",
       "      <td>66.500</td>\n",
       "    </tr>\n",
       "    <tr>\n",
       "      <th>OUTCOME</th>\n",
       "      <td>768.0</td>\n",
       "      <td>0.348958</td>\n",
       "      <td>0.476951</td>\n",
       "      <td>0.000</td>\n",
       "      <td>0.00000</td>\n",
       "      <td>0.00000</td>\n",
       "      <td>0.000000</td>\n",
       "      <td>1.00000</td>\n",
       "      <td>1.0000</td>\n",
       "      <td>1.0000</td>\n",
       "      <td>1.000</td>\n",
       "    </tr>\n",
       "  </tbody>\n",
       "</table>\n",
       "</div>"
      ],
      "text/plain": [
       "                          count        mean        std     min        1%  \\\n",
       "PREGNANCIES               768.0    3.837240   3.344157   0.000   0.00000   \n",
       "GLUCOSE                   768.0  121.686763  30.435949  44.000  67.67000   \n",
       "BLOODPRESSURE             768.0   72.375171  11.696835  40.000  44.00000   \n",
       "SKINTHICKNESS             768.0   29.059150   8.438759   7.000  10.00000   \n",
       "INSULIN                   768.0  146.500000  64.672728  14.000  24.34000   \n",
       "BMI                       768.0   32.394716   6.667462  18.200  19.50000   \n",
       "DIABETESPEDIGREEFUNCTION  768.0    0.458914   0.285596   0.078   0.09468   \n",
       "AGE                       768.0   33.199870  11.628404  21.000  21.00000   \n",
       "OUTCOME                   768.0    0.348958   0.476951   0.000   0.00000   \n",
       "\n",
       "                                5%         50%        75%       90%       99%  \\\n",
       "PREGNANCIES                0.00000    3.000000    6.00000    9.0000   13.0000   \n",
       "GLUCOSE                   80.00000  117.000000  140.25000  167.0000  196.0000   \n",
       "BLOODPRESSURE             52.00000   72.187585   80.00000   88.0000  104.0000   \n",
       "SKINTHICKNESS             14.35000   29.059150   32.00000   40.0000   51.3300   \n",
       "INSULIN                   50.00000  146.500000  146.50000  210.0000  360.6250   \n",
       "BMI                       22.23500   32.394716   36.60000   41.5000   50.0825   \n",
       "DIABETESPEDIGREEFUNCTION   0.14035    0.372500    0.62625    0.8786    1.2000   \n",
       "AGE                       21.00000   29.000000   41.00000   51.0000   66.5000   \n",
       "OUTCOME                    0.00000    0.000000    1.00000    1.0000    1.0000   \n",
       "\n",
       "                              max  \n",
       "PREGNANCIES                13.500  \n",
       "GLUCOSE                   199.000  \n",
       "BLOODPRESSURE             104.000  \n",
       "SKINTHICKNESS              57.000  \n",
       "INSULIN                   360.625  \n",
       "BMI                        50.250  \n",
       "DIABETESPEDIGREEFUNCTION    1.200  \n",
       "AGE                        66.500  \n",
       "OUTCOME                     1.000  "
      ]
     },
     "execution_count": 29,
     "metadata": {},
     "output_type": "execute_result"
    }
   ],
   "source": [
    "df.describe([0.01, 0.05, 0.75, 0.90, 0.99]).T\n"
   ]
  },
  {
   "cell_type": "code",
   "execution_count": 30,
   "id": "8f3cca84",
   "metadata": {
    "execution": {
     "iopub.execute_input": "2023-04-01T10:00:01.546510Z",
     "iopub.status.busy": "2023-04-01T10:00:01.546063Z",
     "iopub.status.idle": "2023-04-01T10:00:01.554739Z",
     "shell.execute_reply": "2023-04-01T10:00:01.553133Z"
    },
    "papermill": {
     "duration": 0.039255,
     "end_time": "2023-04-01T10:00:01.557671",
     "exception": false,
     "start_time": "2023-04-01T10:00:01.518416",
     "status": "completed"
    },
    "tags": []
   },
   "outputs": [],
   "source": [
    "df.drop(axis=0, labels=df[df_scores < th].index, inplace=True)\n"
   ]
  },
  {
   "cell_type": "markdown",
   "id": "5563d127",
   "metadata": {
    "papermill": {
     "duration": 0.02407,
     "end_time": "2023-04-01T10:00:01.607935",
     "exception": false,
     "start_time": "2023-04-01T10:00:01.583865",
     "status": "completed"
    },
    "tags": []
   },
   "source": [
    "Adım 2: Yeni değişkenler oluşturunuz.\n",
    "\n"
   ]
  },
  {
   "cell_type": "code",
   "execution_count": 31,
   "id": "20645fa0",
   "metadata": {
    "execution": {
     "iopub.execute_input": "2023-04-01T10:00:01.659108Z",
     "iopub.status.busy": "2023-04-01T10:00:01.658712Z",
     "iopub.status.idle": "2023-04-01T10:00:01.667094Z",
     "shell.execute_reply": "2023-04-01T10:00:01.665712Z"
    },
    "papermill": {
     "duration": 0.037914,
     "end_time": "2023-04-01T10:00:01.670034",
     "exception": false,
     "start_time": "2023-04-01T10:00:01.632120",
     "status": "completed"
    },
    "tags": []
   },
   "outputs": [
    {
     "data": {
      "text/plain": [
       "['PREGNANCIES',\n",
       " 'GLUCOSE',\n",
       " 'BLOODPRESSURE',\n",
       " 'SKINTHICKNESS',\n",
       " 'INSULIN',\n",
       " 'BMI',\n",
       " 'DIABETESPEDIGREEFUNCTION',\n",
       " 'AGE']"
      ]
     },
     "execution_count": 31,
     "metadata": {},
     "output_type": "execute_result"
    }
   ],
   "source": [
    "numCols"
   ]
  },
  {
   "cell_type": "code",
   "execution_count": 32,
   "id": "80b7dde3",
   "metadata": {
    "execution": {
     "iopub.execute_input": "2023-04-01T10:00:01.722729Z",
     "iopub.status.busy": "2023-04-01T10:00:01.721860Z",
     "iopub.status.idle": "2023-04-01T10:00:01.810987Z",
     "shell.execute_reply": "2023-04-01T10:00:01.809459Z"
    },
    "papermill": {
     "duration": 0.118305,
     "end_time": "2023-04-01T10:00:01.814013",
     "exception": false,
     "start_time": "2023-04-01T10:00:01.695708",
     "status": "completed"
    },
    "tags": []
   },
   "outputs": [
    {
     "data": {
      "text/html": [
       "<div>\n",
       "<style scoped>\n",
       "    .dataframe tbody tr th:only-of-type {\n",
       "        vertical-align: middle;\n",
       "    }\n",
       "\n",
       "    .dataframe tbody tr th {\n",
       "        vertical-align: top;\n",
       "    }\n",
       "\n",
       "    .dataframe thead th {\n",
       "        text-align: right;\n",
       "    }\n",
       "</style>\n",
       "<table border=\"1\" class=\"dataframe\">\n",
       "  <thead>\n",
       "    <tr style=\"text-align: right;\">\n",
       "      <th></th>\n",
       "      <th>PREGNANCIES</th>\n",
       "      <th>GLUCOSE</th>\n",
       "      <th>BLOODPRESSURE</th>\n",
       "      <th>SKINTHICKNESS</th>\n",
       "      <th>INSULIN</th>\n",
       "      <th>BMI</th>\n",
       "      <th>DIABETESPEDIGREEFUNCTION</th>\n",
       "      <th>AGE</th>\n",
       "      <th>OUTCOME</th>\n",
       "      <th>NEW_AGE_CAT</th>\n",
       "      <th>NEW_BMI</th>\n",
       "      <th>NEW_GLUCOSE</th>\n",
       "      <th>NEW_AGE_BMI_NOM</th>\n",
       "      <th>NEW_AGE_GLUCOSE_NOM</th>\n",
       "      <th>NEW_INSULIN_SCORE</th>\n",
       "      <th>NEW_GLUCOSE*INSULIN</th>\n",
       "      <th>NEW_GLUCOSE*PREGNANCIES</th>\n",
       "    </tr>\n",
       "  </thead>\n",
       "  <tbody>\n",
       "    <tr>\n",
       "      <th>0</th>\n",
       "      <td>6.0</td>\n",
       "      <td>148.0</td>\n",
       "      <td>72.0</td>\n",
       "      <td>35.00000</td>\n",
       "      <td>146.5</td>\n",
       "      <td>33.6</td>\n",
       "      <td>0.627</td>\n",
       "      <td>50.0</td>\n",
       "      <td>1</td>\n",
       "      <td>senior</td>\n",
       "      <td>Obese</td>\n",
       "      <td>Prediabetes</td>\n",
       "      <td>obesesenior</td>\n",
       "      <td>highsenior</td>\n",
       "      <td>Normal</td>\n",
       "      <td>21682.0</td>\n",
       "      <td>888.0</td>\n",
       "    </tr>\n",
       "    <tr>\n",
       "      <th>1</th>\n",
       "      <td>1.0</td>\n",
       "      <td>85.0</td>\n",
       "      <td>66.0</td>\n",
       "      <td>29.00000</td>\n",
       "      <td>146.5</td>\n",
       "      <td>26.6</td>\n",
       "      <td>0.351</td>\n",
       "      <td>31.0</td>\n",
       "      <td>0</td>\n",
       "      <td>mature</td>\n",
       "      <td>Overweight</td>\n",
       "      <td>Normal</td>\n",
       "      <td>obesemature</td>\n",
       "      <td>normalmature</td>\n",
       "      <td>Normal</td>\n",
       "      <td>12452.5</td>\n",
       "      <td>85.0</td>\n",
       "    </tr>\n",
       "    <tr>\n",
       "      <th>2</th>\n",
       "      <td>8.0</td>\n",
       "      <td>183.0</td>\n",
       "      <td>64.0</td>\n",
       "      <td>29.05915</td>\n",
       "      <td>146.5</td>\n",
       "      <td>23.3</td>\n",
       "      <td>0.672</td>\n",
       "      <td>32.0</td>\n",
       "      <td>1</td>\n",
       "      <td>mature</td>\n",
       "      <td>Healthy</td>\n",
       "      <td>Prediabetes</td>\n",
       "      <td>obesemature</td>\n",
       "      <td>highmature</td>\n",
       "      <td>Normal</td>\n",
       "      <td>26809.5</td>\n",
       "      <td>1464.0</td>\n",
       "    </tr>\n",
       "    <tr>\n",
       "      <th>3</th>\n",
       "      <td>1.0</td>\n",
       "      <td>89.0</td>\n",
       "      <td>66.0</td>\n",
       "      <td>23.00000</td>\n",
       "      <td>94.0</td>\n",
       "      <td>28.1</td>\n",
       "      <td>0.167</td>\n",
       "      <td>21.0</td>\n",
       "      <td>0</td>\n",
       "      <td>mature</td>\n",
       "      <td>Overweight</td>\n",
       "      <td>Normal</td>\n",
       "      <td>obesemature</td>\n",
       "      <td>normalmature</td>\n",
       "      <td>Normal</td>\n",
       "      <td>8366.0</td>\n",
       "      <td>89.0</td>\n",
       "    </tr>\n",
       "    <tr>\n",
       "      <th>4</th>\n",
       "      <td>0.0</td>\n",
       "      <td>137.0</td>\n",
       "      <td>40.0</td>\n",
       "      <td>35.00000</td>\n",
       "      <td>168.0</td>\n",
       "      <td>43.1</td>\n",
       "      <td>1.200</td>\n",
       "      <td>33.0</td>\n",
       "      <td>1</td>\n",
       "      <td>mature</td>\n",
       "      <td>Obese</td>\n",
       "      <td>Normal</td>\n",
       "      <td>obesemature</td>\n",
       "      <td>highmature</td>\n",
       "      <td>Abnormal</td>\n",
       "      <td>23016.0</td>\n",
       "      <td>0.0</td>\n",
       "    </tr>\n",
       "  </tbody>\n",
       "</table>\n",
       "</div>"
      ],
      "text/plain": [
       "   PREGNANCIES  GLUCOSE  BLOODPRESSURE  SKINTHICKNESS  INSULIN   BMI  \\\n",
       "0          6.0    148.0           72.0       35.00000    146.5  33.6   \n",
       "1          1.0     85.0           66.0       29.00000    146.5  26.6   \n",
       "2          8.0    183.0           64.0       29.05915    146.5  23.3   \n",
       "3          1.0     89.0           66.0       23.00000     94.0  28.1   \n",
       "4          0.0    137.0           40.0       35.00000    168.0  43.1   \n",
       "\n",
       "   DIABETESPEDIGREEFUNCTION   AGE  OUTCOME NEW_AGE_CAT     NEW_BMI  \\\n",
       "0                     0.627  50.0        1      senior       Obese   \n",
       "1                     0.351  31.0        0      mature  Overweight   \n",
       "2                     0.672  32.0        1      mature     Healthy   \n",
       "3                     0.167  21.0        0      mature  Overweight   \n",
       "4                     1.200  33.0        1      mature       Obese   \n",
       "\n",
       "   NEW_GLUCOSE NEW_AGE_BMI_NOM NEW_AGE_GLUCOSE_NOM NEW_INSULIN_SCORE  \\\n",
       "0  Prediabetes     obesesenior          highsenior            Normal   \n",
       "1       Normal     obesemature        normalmature            Normal   \n",
       "2  Prediabetes     obesemature          highmature            Normal   \n",
       "3       Normal     obesemature        normalmature            Normal   \n",
       "4       Normal     obesemature          highmature          Abnormal   \n",
       "\n",
       "   NEW_GLUCOSE*INSULIN  NEW_GLUCOSE*PREGNANCIES  \n",
       "0              21682.0                    888.0  \n",
       "1              12452.5                     85.0  \n",
       "2              26809.5                   1464.0  \n",
       "3               8366.0                     89.0  \n",
       "4              23016.0                      0.0  "
      ]
     },
     "execution_count": 32,
     "metadata": {},
     "output_type": "execute_result"
    }
   ],
   "source": [
    "df.loc[(df[\"AGE\"] >= 21) & (df[\"AGE\"] < 50), \"NEW_AGE_CAT\"] = \"mature\"\n",
    "df.loc[(df[\"AGE\"] >= 50), \"NEW_AGE_CAT\"] = \"senior\"\n",
    "\n",
    "# BMI 18,5 aşağısı underweight, 18.5 ile 24.9 arası normal, 24.9 ile 29.9 arası Overweight ve 30 üstü obez\n",
    "df['NEW_BMI'] = pd.cut(x=df['BMI'], bins=[0, 18.5, 24.9, 29.9, 100],\n",
    "                       labels=[\"Underweight\", \"Healthy\", \"Overweight\", \"Obese\"])\n",
    "\n",
    "# Glukoz degerini kategorik değişkene çevirme\n",
    "df[\"NEW_GLUCOSE\"] = pd.cut(x=df[\"GLUCOSE\"], bins=[0, 140, 200, 300], labels=[\"Normal\", \"Prediabetes\", \"Diabetes\"])\n",
    "\n",
    "# # Yaş ve beden kitle indeksini bir arada düşünerek kategorik değişken oluşturma\n",
    "df.loc[(df[\"BMI\"] < 18.5) & ((df[\"AGE\"] >= 21) & (df[\"AGE\"] < 50)), \"NEW_AGE_BMI_NOM\"] = \"underweightmature\"\n",
    "df.loc[(df[\"BMI\"] < 18.5) & (df[\"AGE\"] >= 50), \"NEW_AGE_BMI_NOM\"] = \"underweightsenior\"\n",
    "df.loc[((df[\"BMI\"] >= 18.5) & (df[\"BMI\"] < 25)) & (\n",
    "        (df[\"AGE\"] >= 21) & (df[\"AGE\"] < 50)), \"NEW_AGE_BMI_NOM\"] = \"healthymature\"\n",
    "df.loc[((df[\"BMI\"] >= 18.5) & (df[\"BMI\"] < 25)) & (df[\"AGE\"] >= 50), \"NEW_AGE_BMI_NOM\"] = \"healthysenior\"\n",
    "df.loc[((df[\"BMI\"] >= 25) & (df[\"BMI\"] < 30)) & (\n",
    "        (df[\"AGE\"] >= 21) & (df[\"AGE\"] < 50)), \"NEW_AGE_BMI_NOM\"] = \"overweightmature\"\n",
    "df.loc[((df[\"BMI\"] >= 25) & (df[\"BMI\"] < 30)) & (df[\"AGE\"] >= 50), \"NEW_AGE_BMI_NOM\"] = \"overweightsenior\"\n",
    "df.loc[(df[\"BMI\"] > 18.5) & ((df[\"AGE\"] >= 21) & (df[\"AGE\"] < 50)), \"NEW_AGE_BMI_NOM\"] = \"obesemature\"\n",
    "df.loc[(df[\"BMI\"] > 18.5) & (df[\"AGE\"] >= 50), \"NEW_AGE_BMI_NOM\"] = \"obesesenior\"\n",
    "\n",
    "# Yaş ve Glikoz değerlerini bir arada düşünerek kategorik değişken oluşturma\n",
    "df.loc[(df[\"GLUCOSE\"] < 70) & ((df[\"AGE\"] >= 21) & (df[\"AGE\"] < 50)), \"NEW_AGE_GLUCOSE_NOM\"] = \"lowmature\"\n",
    "df.loc[(df[\"GLUCOSE\"] < 70) & (df[\"AGE\"] >= 50), \"NEW_AGE_GLUCOSE_NOM\"] = \"lowsenior\"\n",
    "df.loc[((df[\"GLUCOSE\"] >= 70) & (df[\"GLUCOSE\"] < 100)) & (\n",
    "        (df[\"AGE\"] >= 21) & (df[\"AGE\"] < 50)), \"NEW_AGE_GLUCOSE_NOM\"] = \"normalmature\"\n",
    "df.loc[((df[\"GLUCOSE\"] >= 70) & (df[\"GLUCOSE\"] < 100)) & (df[\"AGE\"] >= 50), \"NEW_AGE_GLUCOSE_NOM\"] = \"normalsenior\"\n",
    "df.loc[((df[\"GLUCOSE\"] >= 100) & (df[\"GLUCOSE\"] <= 125)) & (\n",
    "        (df[\"AGE\"] >= 21) & (df[\"AGE\"] < 50)), \"NEW_AGE_GLUCOSE_NOM\"] = \"hiddenmature\"\n",
    "df.loc[((df[\"GLUCOSE\"] >= 100) & (df[\"GLUCOSE\"] <= 125)) & (df[\"AGE\"] >= 50), \"NEW_AGE_GLUCOSE_NOM\"] = \"hiddensenior\"\n",
    "df.loc[(df[\"GLUCOSE\"] > 125) & ((df[\"AGE\"] >= 21) & (df[\"AGE\"] < 50)), \"NEW_AGE_GLUCOSE_NOM\"] = \"highmature\"\n",
    "df.loc[(df[\"GLUCOSE\"] > 125) & (df[\"AGE\"] >= 50), \"NEW_AGE_GLUCOSE_NOM\"] = \"highsenior\"\n",
    "def set_INSULIN(dataframe, col_name=\"INSULIN\"):\n",
    "    if 16 <= dataframe[col_name] <= 166:\n",
    "        return \"Normal\"\n",
    "    else:\n",
    "        return \"Abnormal\"\n",
    "\n",
    "\n",
    "df[\"NEW_INSULIN_SCORE\"] = df.apply(set_INSULIN, axis=1)\n",
    "\n",
    "df[\"NEW_GLUCOSE*INSULIN\"] = df[\"GLUCOSE\"] * df[\"INSULIN\"]\n",
    "df[\"NEW_GLUCOSE*PREGNANCIES\"] = df[\"GLUCOSE\"] * df[\"PREGNANCIES\"]\n",
    "df.head()"
   ]
  },
  {
   "cell_type": "markdown",
   "id": "2ace707a",
   "metadata": {
    "papermill": {
     "duration": 0.023813,
     "end_time": "2023-04-01T10:00:01.861910",
     "exception": false,
     "start_time": "2023-04-01T10:00:01.838097",
     "status": "completed"
    },
    "tags": []
   },
   "source": [
    "Adım 3: Encoding işlemlerini gerçekleştiriniz.\n",
    "\n"
   ]
  },
  {
   "cell_type": "code",
   "execution_count": 33,
   "id": "0fad7c87",
   "metadata": {
    "execution": {
     "iopub.execute_input": "2023-04-01T10:00:01.917165Z",
     "iopub.status.busy": "2023-04-01T10:00:01.915848Z",
     "iopub.status.idle": "2023-04-01T10:00:01.931379Z",
     "shell.execute_reply": "2023-04-01T10:00:01.929968Z"
    },
    "papermill": {
     "duration": 0.046778,
     "end_time": "2023-04-01T10:00:01.934556",
     "exception": false,
     "start_time": "2023-04-01T10:00:01.887778",
     "status": "completed"
    },
    "tags": []
   },
   "outputs": [
    {
     "data": {
      "text/plain": [
       "['NEW_AGE_CAT', 'NEW_GLUCOSE', 'NEW_INSULIN_SCORE']"
      ]
     },
     "execution_count": 33,
     "metadata": {},
     "output_type": "execute_result"
    }
   ],
   "source": [
    "def labelEncoder(dataframe, binaryCol):\n",
    "    labelencoder = LabelEncoder()\n",
    "    dataframe[binaryCol] = labelencoder.fit_transform(dataframe[binaryCol])\n",
    "    return dataframe\n",
    "binaryCols = [col for col in df.columns if df[col].dtype not in [int, float] and df[col].nunique() == 2]\n",
    "binaryCols"
   ]
  },
  {
   "cell_type": "code",
   "execution_count": 34,
   "id": "96d8efa0",
   "metadata": {
    "execution": {
     "iopub.execute_input": "2023-04-01T10:00:01.985718Z",
     "iopub.status.busy": "2023-04-01T10:00:01.985247Z",
     "iopub.status.idle": "2023-04-01T10:00:02.015473Z",
     "shell.execute_reply": "2023-04-01T10:00:02.014346Z"
    },
    "papermill": {
     "duration": 0.059617,
     "end_time": "2023-04-01T10:00:02.018433",
     "exception": false,
     "start_time": "2023-04-01T10:00:01.958816",
     "status": "completed"
    },
    "tags": []
   },
   "outputs": [
    {
     "data": {
      "text/html": [
       "<div>\n",
       "<style scoped>\n",
       "    .dataframe tbody tr th:only-of-type {\n",
       "        vertical-align: middle;\n",
       "    }\n",
       "\n",
       "    .dataframe tbody tr th {\n",
       "        vertical-align: top;\n",
       "    }\n",
       "\n",
       "    .dataframe thead th {\n",
       "        text-align: right;\n",
       "    }\n",
       "</style>\n",
       "<table border=\"1\" class=\"dataframe\">\n",
       "  <thead>\n",
       "    <tr style=\"text-align: right;\">\n",
       "      <th></th>\n",
       "      <th>PREGNANCIES</th>\n",
       "      <th>GLUCOSE</th>\n",
       "      <th>BLOODPRESSURE</th>\n",
       "      <th>SKINTHICKNESS</th>\n",
       "      <th>INSULIN</th>\n",
       "      <th>BMI</th>\n",
       "      <th>DIABETESPEDIGREEFUNCTION</th>\n",
       "      <th>AGE</th>\n",
       "      <th>OUTCOME</th>\n",
       "      <th>NEW_AGE_CAT</th>\n",
       "      <th>NEW_BMI</th>\n",
       "      <th>NEW_GLUCOSE</th>\n",
       "      <th>NEW_AGE_BMI_NOM</th>\n",
       "      <th>NEW_AGE_GLUCOSE_NOM</th>\n",
       "      <th>NEW_INSULIN_SCORE</th>\n",
       "      <th>NEW_GLUCOSE*INSULIN</th>\n",
       "      <th>NEW_GLUCOSE*PREGNANCIES</th>\n",
       "    </tr>\n",
       "  </thead>\n",
       "  <tbody>\n",
       "    <tr>\n",
       "      <th>0</th>\n",
       "      <td>6.0</td>\n",
       "      <td>148.0</td>\n",
       "      <td>72.0</td>\n",
       "      <td>35.00000</td>\n",
       "      <td>146.5</td>\n",
       "      <td>33.6</td>\n",
       "      <td>0.627</td>\n",
       "      <td>50.0</td>\n",
       "      <td>1</td>\n",
       "      <td>1</td>\n",
       "      <td>Obese</td>\n",
       "      <td>1</td>\n",
       "      <td>obesesenior</td>\n",
       "      <td>highsenior</td>\n",
       "      <td>1</td>\n",
       "      <td>21682.0</td>\n",
       "      <td>888.0</td>\n",
       "    </tr>\n",
       "    <tr>\n",
       "      <th>1</th>\n",
       "      <td>1.0</td>\n",
       "      <td>85.0</td>\n",
       "      <td>66.0</td>\n",
       "      <td>29.00000</td>\n",
       "      <td>146.5</td>\n",
       "      <td>26.6</td>\n",
       "      <td>0.351</td>\n",
       "      <td>31.0</td>\n",
       "      <td>0</td>\n",
       "      <td>0</td>\n",
       "      <td>Overweight</td>\n",
       "      <td>0</td>\n",
       "      <td>obesemature</td>\n",
       "      <td>normalmature</td>\n",
       "      <td>1</td>\n",
       "      <td>12452.5</td>\n",
       "      <td>85.0</td>\n",
       "    </tr>\n",
       "    <tr>\n",
       "      <th>2</th>\n",
       "      <td>8.0</td>\n",
       "      <td>183.0</td>\n",
       "      <td>64.0</td>\n",
       "      <td>29.05915</td>\n",
       "      <td>146.5</td>\n",
       "      <td>23.3</td>\n",
       "      <td>0.672</td>\n",
       "      <td>32.0</td>\n",
       "      <td>1</td>\n",
       "      <td>0</td>\n",
       "      <td>Healthy</td>\n",
       "      <td>1</td>\n",
       "      <td>obesemature</td>\n",
       "      <td>highmature</td>\n",
       "      <td>1</td>\n",
       "      <td>26809.5</td>\n",
       "      <td>1464.0</td>\n",
       "    </tr>\n",
       "    <tr>\n",
       "      <th>3</th>\n",
       "      <td>1.0</td>\n",
       "      <td>89.0</td>\n",
       "      <td>66.0</td>\n",
       "      <td>23.00000</td>\n",
       "      <td>94.0</td>\n",
       "      <td>28.1</td>\n",
       "      <td>0.167</td>\n",
       "      <td>21.0</td>\n",
       "      <td>0</td>\n",
       "      <td>0</td>\n",
       "      <td>Overweight</td>\n",
       "      <td>0</td>\n",
       "      <td>obesemature</td>\n",
       "      <td>normalmature</td>\n",
       "      <td>1</td>\n",
       "      <td>8366.0</td>\n",
       "      <td>89.0</td>\n",
       "    </tr>\n",
       "    <tr>\n",
       "      <th>4</th>\n",
       "      <td>0.0</td>\n",
       "      <td>137.0</td>\n",
       "      <td>40.0</td>\n",
       "      <td>35.00000</td>\n",
       "      <td>168.0</td>\n",
       "      <td>43.1</td>\n",
       "      <td>1.200</td>\n",
       "      <td>33.0</td>\n",
       "      <td>1</td>\n",
       "      <td>0</td>\n",
       "      <td>Obese</td>\n",
       "      <td>0</td>\n",
       "      <td>obesemature</td>\n",
       "      <td>highmature</td>\n",
       "      <td>0</td>\n",
       "      <td>23016.0</td>\n",
       "      <td>0.0</td>\n",
       "    </tr>\n",
       "  </tbody>\n",
       "</table>\n",
       "</div>"
      ],
      "text/plain": [
       "   PREGNANCIES  GLUCOSE  BLOODPRESSURE  SKINTHICKNESS  INSULIN   BMI  \\\n",
       "0          6.0    148.0           72.0       35.00000    146.5  33.6   \n",
       "1          1.0     85.0           66.0       29.00000    146.5  26.6   \n",
       "2          8.0    183.0           64.0       29.05915    146.5  23.3   \n",
       "3          1.0     89.0           66.0       23.00000     94.0  28.1   \n",
       "4          0.0    137.0           40.0       35.00000    168.0  43.1   \n",
       "\n",
       "   DIABETESPEDIGREEFUNCTION   AGE  OUTCOME  NEW_AGE_CAT     NEW_BMI  \\\n",
       "0                     0.627  50.0        1            1       Obese   \n",
       "1                     0.351  31.0        0            0  Overweight   \n",
       "2                     0.672  32.0        1            0     Healthy   \n",
       "3                     0.167  21.0        0            0  Overweight   \n",
       "4                     1.200  33.0        1            0       Obese   \n",
       "\n",
       "   NEW_GLUCOSE NEW_AGE_BMI_NOM NEW_AGE_GLUCOSE_NOM  NEW_INSULIN_SCORE  \\\n",
       "0            1     obesesenior          highsenior                  1   \n",
       "1            0     obesemature        normalmature                  1   \n",
       "2            1     obesemature          highmature                  1   \n",
       "3            0     obesemature        normalmature                  1   \n",
       "4            0     obesemature          highmature                  0   \n",
       "\n",
       "   NEW_GLUCOSE*INSULIN  NEW_GLUCOSE*PREGNANCIES  \n",
       "0              21682.0                    888.0  \n",
       "1              12452.5                     85.0  \n",
       "2              26809.5                   1464.0  \n",
       "3               8366.0                     89.0  \n",
       "4              23016.0                      0.0  "
      ]
     },
     "execution_count": 34,
     "metadata": {},
     "output_type": "execute_result"
    }
   ],
   "source": [
    "for col in binaryCols:\n",
    "    labelEncoder(df, col)\n",
    "df.head()"
   ]
  },
  {
   "cell_type": "code",
   "execution_count": 35,
   "id": "93c65094",
   "metadata": {
    "execution": {
     "iopub.execute_input": "2023-04-01T10:00:02.072249Z",
     "iopub.status.busy": "2023-04-01T10:00:02.070834Z",
     "iopub.status.idle": "2023-04-01T10:00:02.097215Z",
     "shell.execute_reply": "2023-04-01T10:00:02.095346Z"
    },
    "papermill": {
     "duration": 0.057645,
     "end_time": "2023-04-01T10:00:02.100964",
     "exception": false,
     "start_time": "2023-04-01T10:00:02.043319",
     "status": "completed"
    },
    "tags": []
   },
   "outputs": [
    {
     "name": "stdout",
     "output_type": "stream",
     "text": [
      "NEW_AGE_CAT : 2\n",
      "   COUNT     RATIO  TARGET_MEAN\n",
      "0    674  0.885677     0.330861\n",
      "1     87  0.114323     0.494253\n",
      "\n",
      "\n",
      "NEW_GLUCOSE : 2\n",
      "   COUNT     RATIO  TARGET_MEAN\n",
      "0    571  0.750329     0.238179\n",
      "1    190  0.249671     0.684211\n",
      "\n",
      "\n",
      "NEW_INSULIN_SCORE : 2\n",
      "   COUNT     RATIO  TARGET_MEAN\n",
      "0    132  0.173456     0.522727\n",
      "1    629  0.826544     0.313196\n",
      "\n",
      "\n"
     ]
    }
   ],
   "source": [
    "def rareAnalyzer(dataframe, target, catCols):\n",
    "    for col in  catCols:\n",
    "        print(col,\":\",len(dataframe[col].value_counts()))\n",
    "        print(pd.DataFrame({\"COUNT\": dataframe[col].value_counts(),\"RATIO\": dataframe[col].value_counts() / len(dataframe),\"TARGET_MEAN\": dataframe.groupby(col)[target].mean()}), end=\"\\n\\n\\n\")\n",
    "rareAnalyzer(df, 'OUTCOME', binaryCols)"
   ]
  },
  {
   "cell_type": "code",
   "execution_count": 36,
   "id": "da4c46a7",
   "metadata": {
    "execution": {
     "iopub.execute_input": "2023-04-01T10:00:02.152119Z",
     "iopub.status.busy": "2023-04-01T10:00:02.151129Z",
     "iopub.status.idle": "2023-04-01T10:00:02.172584Z",
     "shell.execute_reply": "2023-04-01T10:00:02.171391Z"
    },
    "papermill": {
     "duration": 0.049573,
     "end_time": "2023-04-01T10:00:02.174998",
     "exception": false,
     "start_time": "2023-04-01T10:00:02.125425",
     "status": "completed"
    },
    "tags": []
   },
   "outputs": [
    {
     "data": {
      "text/plain": [
       "['NEW_BMI', 'NEW_AGE_BMI_NOM', 'NEW_AGE_GLUCOSE_NOM']"
      ]
     },
     "execution_count": 36,
     "metadata": {},
     "output_type": "execute_result"
    }
   ],
   "source": [
    "def rareEncoder(dataframe, rarePerc):\n",
    "    tempDf = dataframe.copy()\n",
    "    rare_columns = [col for col in tempDf.columns if tempDf[col].dtypes == \"O\" and (tempDf[col].value_counts() / len(tempDf) < rarePerc).any(axis = None)]\n",
    "    for var in rare_columns:\n",
    "        tmp = tempDf[var].value_counts() / len(tempDf)\n",
    "        rareLabels = tmp[tmp < rarePerc].index\n",
    "        tempDf[var] = np.where(tempDf[var].isin(rareLabels), \"Rare\", tempDf[var])\n",
    "    return tempDf\n",
    "newDf = rareEncoder(df, 0.01)\n",
    "def oneHotEncoder(dataframe, categoricalCols, drop_first = False):\n",
    "    dataframe = pd.get_dummies(dataframe, columns=categoricalCols,drop_first=drop_first)\n",
    "    return dataframe\n",
    "oheCols = [col for col in df.columns if 10 >= df[col].nunique() > 2]\n",
    "oheCols"
   ]
  },
  {
   "cell_type": "code",
   "execution_count": 37,
   "id": "77826c00",
   "metadata": {
    "execution": {
     "iopub.execute_input": "2023-04-01T10:00:02.226303Z",
     "iopub.status.busy": "2023-04-01T10:00:02.224969Z",
     "iopub.status.idle": "2023-04-01T10:00:02.260099Z",
     "shell.execute_reply": "2023-04-01T10:00:02.258738Z"
    },
    "papermill": {
     "duration": 0.063971,
     "end_time": "2023-04-01T10:00:02.262986",
     "exception": false,
     "start_time": "2023-04-01T10:00:02.199015",
     "status": "completed"
    },
    "tags": []
   },
   "outputs": [
    {
     "data": {
      "text/html": [
       "<div>\n",
       "<style scoped>\n",
       "    .dataframe tbody tr th:only-of-type {\n",
       "        vertical-align: middle;\n",
       "    }\n",
       "\n",
       "    .dataframe tbody tr th {\n",
       "        vertical-align: top;\n",
       "    }\n",
       "\n",
       "    .dataframe thead th {\n",
       "        text-align: right;\n",
       "    }\n",
       "</style>\n",
       "<table border=\"1\" class=\"dataframe\">\n",
       "  <thead>\n",
       "    <tr style=\"text-align: right;\">\n",
       "      <th></th>\n",
       "      <th>PREGNANCIES</th>\n",
       "      <th>GLUCOSE</th>\n",
       "      <th>BLOODPRESSURE</th>\n",
       "      <th>SKINTHICKNESS</th>\n",
       "      <th>INSULIN</th>\n",
       "      <th>BMI</th>\n",
       "      <th>DIABETESPEDIGREEFUNCTION</th>\n",
       "      <th>AGE</th>\n",
       "      <th>OUTCOME</th>\n",
       "      <th>NEW_AGE_CAT</th>\n",
       "      <th>...</th>\n",
       "      <th>NEW_AGE_BMI_NOM_obesemature</th>\n",
       "      <th>NEW_AGE_BMI_NOM_obesesenior</th>\n",
       "      <th>NEW_AGE_BMI_NOM_underweightmature</th>\n",
       "      <th>NEW_AGE_GLUCOSE_NOM_hiddenmature</th>\n",
       "      <th>NEW_AGE_GLUCOSE_NOM_hiddensenior</th>\n",
       "      <th>NEW_AGE_GLUCOSE_NOM_highmature</th>\n",
       "      <th>NEW_AGE_GLUCOSE_NOM_highsenior</th>\n",
       "      <th>NEW_AGE_GLUCOSE_NOM_lowmature</th>\n",
       "      <th>NEW_AGE_GLUCOSE_NOM_normalmature</th>\n",
       "      <th>NEW_AGE_GLUCOSE_NOM_normalsenior</th>\n",
       "    </tr>\n",
       "  </thead>\n",
       "  <tbody>\n",
       "    <tr>\n",
       "      <th>0</th>\n",
       "      <td>6.0</td>\n",
       "      <td>148.0</td>\n",
       "      <td>72.0</td>\n",
       "      <td>35.00000</td>\n",
       "      <td>146.5</td>\n",
       "      <td>33.6</td>\n",
       "      <td>0.627</td>\n",
       "      <td>50.0</td>\n",
       "      <td>1</td>\n",
       "      <td>1</td>\n",
       "      <td>...</td>\n",
       "      <td>0</td>\n",
       "      <td>1</td>\n",
       "      <td>0</td>\n",
       "      <td>0</td>\n",
       "      <td>0</td>\n",
       "      <td>0</td>\n",
       "      <td>1</td>\n",
       "      <td>0</td>\n",
       "      <td>0</td>\n",
       "      <td>0</td>\n",
       "    </tr>\n",
       "    <tr>\n",
       "      <th>1</th>\n",
       "      <td>1.0</td>\n",
       "      <td>85.0</td>\n",
       "      <td>66.0</td>\n",
       "      <td>29.00000</td>\n",
       "      <td>146.5</td>\n",
       "      <td>26.6</td>\n",
       "      <td>0.351</td>\n",
       "      <td>31.0</td>\n",
       "      <td>0</td>\n",
       "      <td>0</td>\n",
       "      <td>...</td>\n",
       "      <td>1</td>\n",
       "      <td>0</td>\n",
       "      <td>0</td>\n",
       "      <td>0</td>\n",
       "      <td>0</td>\n",
       "      <td>0</td>\n",
       "      <td>0</td>\n",
       "      <td>0</td>\n",
       "      <td>1</td>\n",
       "      <td>0</td>\n",
       "    </tr>\n",
       "    <tr>\n",
       "      <th>2</th>\n",
       "      <td>8.0</td>\n",
       "      <td>183.0</td>\n",
       "      <td>64.0</td>\n",
       "      <td>29.05915</td>\n",
       "      <td>146.5</td>\n",
       "      <td>23.3</td>\n",
       "      <td>0.672</td>\n",
       "      <td>32.0</td>\n",
       "      <td>1</td>\n",
       "      <td>0</td>\n",
       "      <td>...</td>\n",
       "      <td>1</td>\n",
       "      <td>0</td>\n",
       "      <td>0</td>\n",
       "      <td>0</td>\n",
       "      <td>0</td>\n",
       "      <td>1</td>\n",
       "      <td>0</td>\n",
       "      <td>0</td>\n",
       "      <td>0</td>\n",
       "      <td>0</td>\n",
       "    </tr>\n",
       "    <tr>\n",
       "      <th>3</th>\n",
       "      <td>1.0</td>\n",
       "      <td>89.0</td>\n",
       "      <td>66.0</td>\n",
       "      <td>23.00000</td>\n",
       "      <td>94.0</td>\n",
       "      <td>28.1</td>\n",
       "      <td>0.167</td>\n",
       "      <td>21.0</td>\n",
       "      <td>0</td>\n",
       "      <td>0</td>\n",
       "      <td>...</td>\n",
       "      <td>1</td>\n",
       "      <td>0</td>\n",
       "      <td>0</td>\n",
       "      <td>0</td>\n",
       "      <td>0</td>\n",
       "      <td>0</td>\n",
       "      <td>0</td>\n",
       "      <td>0</td>\n",
       "      <td>1</td>\n",
       "      <td>0</td>\n",
       "    </tr>\n",
       "    <tr>\n",
       "      <th>4</th>\n",
       "      <td>0.0</td>\n",
       "      <td>137.0</td>\n",
       "      <td>40.0</td>\n",
       "      <td>35.00000</td>\n",
       "      <td>168.0</td>\n",
       "      <td>43.1</td>\n",
       "      <td>1.200</td>\n",
       "      <td>33.0</td>\n",
       "      <td>1</td>\n",
       "      <td>0</td>\n",
       "      <td>...</td>\n",
       "      <td>1</td>\n",
       "      <td>0</td>\n",
       "      <td>0</td>\n",
       "      <td>0</td>\n",
       "      <td>0</td>\n",
       "      <td>1</td>\n",
       "      <td>0</td>\n",
       "      <td>0</td>\n",
       "      <td>0</td>\n",
       "      <td>0</td>\n",
       "    </tr>\n",
       "  </tbody>\n",
       "</table>\n",
       "<p>5 rows × 28 columns</p>\n",
       "</div>"
      ],
      "text/plain": [
       "   PREGNANCIES  GLUCOSE  BLOODPRESSURE  SKINTHICKNESS  INSULIN   BMI  \\\n",
       "0          6.0    148.0           72.0       35.00000    146.5  33.6   \n",
       "1          1.0     85.0           66.0       29.00000    146.5  26.6   \n",
       "2          8.0    183.0           64.0       29.05915    146.5  23.3   \n",
       "3          1.0     89.0           66.0       23.00000     94.0  28.1   \n",
       "4          0.0    137.0           40.0       35.00000    168.0  43.1   \n",
       "\n",
       "   DIABETESPEDIGREEFUNCTION   AGE  OUTCOME  NEW_AGE_CAT  ...  \\\n",
       "0                     0.627  50.0        1            1  ...   \n",
       "1                     0.351  31.0        0            0  ...   \n",
       "2                     0.672  32.0        1            0  ...   \n",
       "3                     0.167  21.0        0            0  ...   \n",
       "4                     1.200  33.0        1            0  ...   \n",
       "\n",
       "   NEW_AGE_BMI_NOM_obesemature  NEW_AGE_BMI_NOM_obesesenior  \\\n",
       "0                            0                            1   \n",
       "1                            1                            0   \n",
       "2                            1                            0   \n",
       "3                            1                            0   \n",
       "4                            1                            0   \n",
       "\n",
       "   NEW_AGE_BMI_NOM_underweightmature  NEW_AGE_GLUCOSE_NOM_hiddenmature  \\\n",
       "0                                  0                                 0   \n",
       "1                                  0                                 0   \n",
       "2                                  0                                 0   \n",
       "3                                  0                                 0   \n",
       "4                                  0                                 0   \n",
       "\n",
       "   NEW_AGE_GLUCOSE_NOM_hiddensenior  NEW_AGE_GLUCOSE_NOM_highmature  \\\n",
       "0                                 0                               0   \n",
       "1                                 0                               0   \n",
       "2                                 0                               1   \n",
       "3                                 0                               0   \n",
       "4                                 0                               1   \n",
       "\n",
       "   NEW_AGE_GLUCOSE_NOM_highsenior  NEW_AGE_GLUCOSE_NOM_lowmature  \\\n",
       "0                               1                              0   \n",
       "1                               0                              0   \n",
       "2                               0                              0   \n",
       "3                               0                              0   \n",
       "4                               0                              0   \n",
       "\n",
       "   NEW_AGE_GLUCOSE_NOM_normalmature  NEW_AGE_GLUCOSE_NOM_normalsenior  \n",
       "0                                 0                                 0  \n",
       "1                                 1                                 0  \n",
       "2                                 0                                 0  \n",
       "3                                 1                                 0  \n",
       "4                                 0                                 0  \n",
       "\n",
       "[5 rows x 28 columns]"
      ]
     },
     "execution_count": 37,
     "metadata": {},
     "output_type": "execute_result"
    }
   ],
   "source": [
    "df = oneHotEncoder(df, oheCols)\n",
    "df.head()"
   ]
  },
  {
   "cell_type": "markdown",
   "id": "a9e640ca",
   "metadata": {
    "papermill": {
     "duration": 0.026287,
     "end_time": "2023-04-01T10:00:02.314397",
     "exception": false,
     "start_time": "2023-04-01T10:00:02.288110",
     "status": "completed"
    },
    "tags": []
   },
   "source": [
    "Adım 4: Numerik değişkenler için standartlaştırma yapınız.\n",
    "\n"
   ]
  },
  {
   "cell_type": "code",
   "execution_count": 38,
   "id": "6a3c0dba",
   "metadata": {
    "execution": {
     "iopub.execute_input": "2023-04-01T10:00:02.369756Z",
     "iopub.status.busy": "2023-04-01T10:00:02.369236Z",
     "iopub.status.idle": "2023-04-01T10:00:02.393433Z",
     "shell.execute_reply": "2023-04-01T10:00:02.392195Z"
    },
    "papermill": {
     "duration": 0.056147,
     "end_time": "2023-04-01T10:00:02.396174",
     "exception": false,
     "start_time": "2023-04-01T10:00:02.340027",
     "status": "completed"
    },
    "tags": []
   },
   "outputs": [
    {
     "data": {
      "text/html": [
       "<div>\n",
       "<style scoped>\n",
       "    .dataframe tbody tr th:only-of-type {\n",
       "        vertical-align: middle;\n",
       "    }\n",
       "\n",
       "    .dataframe tbody tr th {\n",
       "        vertical-align: top;\n",
       "    }\n",
       "\n",
       "    .dataframe thead th {\n",
       "        text-align: right;\n",
       "    }\n",
       "</style>\n",
       "<table border=\"1\" class=\"dataframe\">\n",
       "  <thead>\n",
       "    <tr style=\"text-align: right;\">\n",
       "      <th></th>\n",
       "      <th>PREGNANCIES</th>\n",
       "      <th>GLUCOSE</th>\n",
       "      <th>BLOODPRESSURE</th>\n",
       "      <th>SKINTHICKNESS</th>\n",
       "      <th>INSULIN</th>\n",
       "      <th>BMI</th>\n",
       "      <th>DIABETESPEDIGREEFUNCTION</th>\n",
       "      <th>AGE</th>\n",
       "    </tr>\n",
       "  </thead>\n",
       "  <tbody>\n",
       "    <tr>\n",
       "      <th>0</th>\n",
       "      <td>0.653582</td>\n",
       "      <td>0.865918</td>\n",
       "      <td>-0.033831</td>\n",
       "      <td>0.716214</td>\n",
       "      <td>-0.005178</td>\n",
       "      <td>0.180165</td>\n",
       "      <td>0.596680</td>\n",
       "      <td>1.461898</td>\n",
       "    </tr>\n",
       "    <tr>\n",
       "      <th>1</th>\n",
       "      <td>-0.850882</td>\n",
       "      <td>-1.220399</td>\n",
       "      <td>-0.548506</td>\n",
       "      <td>-0.000205</td>\n",
       "      <td>-0.005178</td>\n",
       "      <td>-0.875293</td>\n",
       "      <td>-0.373540</td>\n",
       "      <td>-0.183818</td>\n",
       "    </tr>\n",
       "    <tr>\n",
       "      <th>2</th>\n",
       "      <td>1.255368</td>\n",
       "      <td>2.024984</td>\n",
       "      <td>-0.720065</td>\n",
       "      <td>0.006857</td>\n",
       "      <td>-0.005178</td>\n",
       "      <td>-1.372866</td>\n",
       "      <td>0.754868</td>\n",
       "      <td>-0.097202</td>\n",
       "    </tr>\n",
       "    <tr>\n",
       "      <th>3</th>\n",
       "      <td>-0.850882</td>\n",
       "      <td>-1.087935</td>\n",
       "      <td>-0.548506</td>\n",
       "      <td>-0.716625</td>\n",
       "      <td>-0.818006</td>\n",
       "      <td>-0.649124</td>\n",
       "      <td>-1.020353</td>\n",
       "      <td>-1.049985</td>\n",
       "    </tr>\n",
       "    <tr>\n",
       "      <th>4</th>\n",
       "      <td>-1.151775</td>\n",
       "      <td>0.501641</td>\n",
       "      <td>-2.778769</td>\n",
       "      <td>0.716214</td>\n",
       "      <td>0.327695</td>\n",
       "      <td>1.612571</td>\n",
       "      <td>2.610939</td>\n",
       "      <td>-0.010585</td>\n",
       "    </tr>\n",
       "  </tbody>\n",
       "</table>\n",
       "</div>"
      ],
      "text/plain": [
       "   PREGNANCIES   GLUCOSE  BLOODPRESSURE  SKINTHICKNESS   INSULIN       BMI  \\\n",
       "0     0.653582  0.865918      -0.033831       0.716214 -0.005178  0.180165   \n",
       "1    -0.850882 -1.220399      -0.548506      -0.000205 -0.005178 -0.875293   \n",
       "2     1.255368  2.024984      -0.720065       0.006857 -0.005178 -1.372866   \n",
       "3    -0.850882 -1.087935      -0.548506      -0.716625 -0.818006 -0.649124   \n",
       "4    -1.151775  0.501641      -2.778769       0.716214  0.327695  1.612571   \n",
       "\n",
       "   DIABETESPEDIGREEFUNCTION       AGE  \n",
       "0                  0.596680  1.461898  \n",
       "1                 -0.373540 -0.183818  \n",
       "2                  0.754868 -0.097202  \n",
       "3                 -1.020353 -1.049985  \n",
       "4                  2.610939 -0.010585  "
      ]
     },
     "execution_count": 38,
     "metadata": {},
     "output_type": "execute_result"
    }
   ],
   "source": [
    "scaler = StandardScaler()\n",
    "df[numCols] = scaler.fit_transform(df[numCols])\n",
    "df[numCols].head()"
   ]
  },
  {
   "cell_type": "code",
   "execution_count": 39,
   "id": "e77b5e89",
   "metadata": {
    "execution": {
     "iopub.execute_input": "2023-04-01T10:00:02.450468Z",
     "iopub.status.busy": "2023-04-01T10:00:02.450015Z",
     "iopub.status.idle": "2023-04-01T10:00:02.457073Z",
     "shell.execute_reply": "2023-04-01T10:00:02.456005Z"
    },
    "papermill": {
     "duration": 0.037373,
     "end_time": "2023-04-01T10:00:02.459645",
     "exception": false,
     "start_time": "2023-04-01T10:00:02.422272",
     "status": "completed"
    },
    "tags": []
   },
   "outputs": [
    {
     "data": {
      "text/plain": [
       "Index(['PREGNANCIES', 'GLUCOSE', 'BLOODPRESSURE', 'SKINTHICKNESS', 'INSULIN',\n",
       "       'BMI', 'DIABETESPEDIGREEFUNCTION', 'AGE', 'OUTCOME', 'NEW_AGE_CAT',\n",
       "       'NEW_GLUCOSE', 'NEW_INSULIN_SCORE', 'NEW_GLUCOSE*INSULIN',\n",
       "       'NEW_GLUCOSE*PREGNANCIES', 'NEW_BMI_Underweight', 'NEW_BMI_Healthy',\n",
       "       'NEW_BMI_Overweight', 'NEW_BMI_Obese', 'NEW_AGE_BMI_NOM_obesemature',\n",
       "       'NEW_AGE_BMI_NOM_obesesenior', 'NEW_AGE_BMI_NOM_underweightmature',\n",
       "       'NEW_AGE_GLUCOSE_NOM_hiddenmature', 'NEW_AGE_GLUCOSE_NOM_hiddensenior',\n",
       "       'NEW_AGE_GLUCOSE_NOM_highmature', 'NEW_AGE_GLUCOSE_NOM_highsenior',\n",
       "       'NEW_AGE_GLUCOSE_NOM_lowmature', 'NEW_AGE_GLUCOSE_NOM_normalmature',\n",
       "       'NEW_AGE_GLUCOSE_NOM_normalsenior'],\n",
       "      dtype='object')"
      ]
     },
     "execution_count": 39,
     "metadata": {},
     "output_type": "execute_result"
    }
   ],
   "source": [
    "df.columns"
   ]
  },
  {
   "cell_type": "markdown",
   "id": "4c57d4f4",
   "metadata": {
    "papermill": {
     "duration": 0.02859,
     "end_time": "2023-04-01T10:00:02.514832",
     "exception": false,
     "start_time": "2023-04-01T10:00:02.486242",
     "status": "completed"
    },
    "tags": []
   },
   "source": [
    "Adım 5: Model oluşturunuz.\n",
    "\n"
   ]
  },
  {
   "cell_type": "code",
   "execution_count": 40,
   "id": "6613a488",
   "metadata": {
    "execution": {
     "iopub.execute_input": "2023-04-01T10:00:02.570445Z",
     "iopub.status.busy": "2023-04-01T10:00:02.568110Z",
     "iopub.status.idle": "2023-04-01T10:00:02.815682Z",
     "shell.execute_reply": "2023-04-01T10:00:02.814484Z"
    },
    "papermill": {
     "duration": 0.27741,
     "end_time": "2023-04-01T10:00:02.818345",
     "exception": false,
     "start_time": "2023-04-01T10:00:02.540935",
     "status": "completed"
    },
    "tags": []
   },
   "outputs": [
    {
     "data": {
      "text/plain": [
       "0.7685589519650655"
      ]
     },
     "execution_count": 40,
     "metadata": {},
     "output_type": "execute_result"
    }
   ],
   "source": [
    "y = df[\"OUTCOME\"]\n",
    "X = df.drop('OUTCOME', axis=1)\n",
    "X_train, X_test, y_train, y_test = train_test_split(X, y, test_size=0.30, random_state=17)\n",
    "rf_model = RandomForestClassifier(random_state=46).fit(X_train, y_train)\n",
    "y_pred = rf_model.predict(X_test)\n",
    "accuracy_score(y_pred, y_test)"
   ]
  },
  {
   "cell_type": "code",
   "execution_count": 41,
   "id": "9c1bc955",
   "metadata": {
    "execution": {
     "iopub.execute_input": "2023-04-01T10:00:02.871128Z",
     "iopub.status.busy": "2023-04-01T10:00:02.870406Z",
     "iopub.status.idle": "2023-04-01T10:00:05.675121Z",
     "shell.execute_reply": "2023-04-01T10:00:05.673734Z"
    },
    "papermill": {
     "duration": 2.834479,
     "end_time": "2023-04-01T10:00:05.677807",
     "exception": false,
     "start_time": "2023-04-01T10:00:02.843328",
     "status": "completed"
    },
    "tags": []
   },
   "outputs": [
    {
     "data": {
      "text/plain": [
       "0.7437969924812029"
      ]
     },
     "execution_count": 41,
     "metadata": {},
     "output_type": "execute_result"
    }
   ],
   "source": [
    "from sklearn.model_selection import KFold\n",
    "from sklearn.model_selection import cross_val_score\n",
    "\n",
    "cv = KFold(n_splits=10, random_state=1, shuffle=True)\n",
    "\n",
    "y = df[\"OUTCOME\"]\n",
    "X = df.drop(\"OUTCOME\", axis=1)\n",
    "\n",
    "model = RandomForestClassifier()\n",
    "scores = cross_val_score(model, X, y, scoring='accuracy', cv=cv, n_jobs=-1)\n",
    "scores.mean()"
   ]
  },
  {
   "cell_type": "code",
   "execution_count": 42,
   "id": "bcca1e82",
   "metadata": {
    "execution": {
     "iopub.execute_input": "2023-04-01T10:00:05.735098Z",
     "iopub.status.busy": "2023-04-01T10:00:05.733347Z",
     "iopub.status.idle": "2023-04-01T10:00:06.424509Z",
     "shell.execute_reply": "2023-04-01T10:00:06.422854Z"
    },
    "papermill": {
     "duration": 0.724524,
     "end_time": "2023-04-01T10:00:06.428548",
     "exception": false,
     "start_time": "2023-04-01T10:00:05.704024",
     "status": "completed"
    },
    "tags": []
   },
   "outputs": [
    {
     "name": "stdout",
     "output_type": "stream",
     "text": [
      "           Value                            Feature\n",
      "11  1.281686e-01                NEW_GLUCOSE*INSULIN\n",
      "1   1.224975e-01                            GLUCOSE\n",
      "5   1.168615e-01                                BMI\n",
      "7   9.217044e-02                                AGE\n",
      "12  8.984215e-02            NEW_GLUCOSE*PREGNANCIES\n",
      "6   8.370386e-02           DIABETESPEDIGREEFUNCTION\n",
      "2   6.303803e-02                      BLOODPRESSURE\n",
      "3   5.696090e-02                      SKINTHICKNESS\n",
      "0   4.783809e-02                        PREGNANCIES\n",
      "4   4.651203e-02                            INSULIN\n",
      "9   3.585452e-02                        NEW_GLUCOSE\n",
      "16  2.393811e-02                      NEW_BMI_Obese\n",
      "22  2.113284e-02     NEW_AGE_GLUCOSE_NOM_highmature\n",
      "14  1.341887e-02                    NEW_BMI_Healthy\n",
      "15  1.220800e-02                 NEW_BMI_Overweight\n",
      "25  1.104682e-02   NEW_AGE_GLUCOSE_NOM_normalmature\n",
      "20  8.120976e-03   NEW_AGE_GLUCOSE_NOM_hiddenmature\n",
      "10  6.856022e-03                  NEW_INSULIN_SCORE\n",
      "8   4.892896e-03                        NEW_AGE_CAT\n",
      "17  4.172480e-03        NEW_AGE_BMI_NOM_obesemature\n",
      "23  3.476810e-03     NEW_AGE_GLUCOSE_NOM_highsenior\n",
      "18  3.194742e-03        NEW_AGE_BMI_NOM_obesesenior\n",
      "21  2.838599e-03   NEW_AGE_GLUCOSE_NOM_hiddensenior\n",
      "26  8.086658e-04   NEW_AGE_GLUCOSE_NOM_normalsenior\n",
      "24  3.087799e-04      NEW_AGE_GLUCOSE_NOM_lowmature\n",
      "13  1.373758e-04                NEW_BMI_Underweight\n",
      "19  2.846808e-07  NEW_AGE_BMI_NOM_underweightmature\n"
     ]
    },
    {
     "data": {
      "image/png": "[encoded data removed]",
      "text/plain": [
       "<Figure size 1000x1000 with 1 Axes>"
      ]
     },
     "metadata": {},
     "output_type": "display_data"
    }
   ],
   "source": [
    "def plot_importance(model, features, num=len(X), save=False):\n",
    "    feature_imp = pd.DataFrame({'Value': model.feature_importances_, 'Feature': features.columns})\n",
    "    print(feature_imp.sort_values(\"Value\", ascending=False))\n",
    "    plt.figure(figsize=(10, 10))\n",
    "    sns.set(font_scale=1)\n",
    "    sns.barplot(x=\"Value\", y=\"Feature\", data=feature_imp.sort_values(by=\"Value\",\n",
    "                                                                     ascending=False)[0:num])\n",
    "    plt.title('Features')\n",
    "    plt.tight_layout()\n",
    "    plt.show()\n",
    "    if save:\n",
    "        plt.savefig('importances.png')\n",
    "\n",
    "\n",
    "plot_importance(rf_model, X)"
   ]
  }
 ],
 "metadata": {
  "kernelspec": {
   "display_name": "Python 3",
   "language": "python",
   "name": "python3"
  },
  "language_info": {
   "codemirror_mode": {
    "name": "ipython",
    "version": 3
   },
   "file_extension": ".py",
   "mimetype": "text/x-python",
   "name": "python",
   "nbconvert_exporter": "python",
   "pygments_lexer": "ipython3",
   "version": "3.7.12"
  },
  "papermill": {
   "default_parameters": {},
   "duration": 26.892551,
   "end_time": "2023-04-01T10:00:09.084906",
   "environment_variables": {},
   "exception": null,
   "input_path": "__notebook__.ipynb",
   "output_path": "__notebook__.ipynb",
   "parameters": {},
   "start_time": "2023-04-01T09:59:42.192355",
   "version": "2.4.0"
  }
 },
 "nbformat": 4,
 "nbformat_minor": 5
}
